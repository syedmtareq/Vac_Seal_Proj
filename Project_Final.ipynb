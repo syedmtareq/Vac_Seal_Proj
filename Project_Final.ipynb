{
 "cells": [
  {
   "cell_type": "code",
   "execution_count": 149,
   "id": "7705f3f7",
   "metadata": {},
   "outputs": [],
   "source": [
    "## Project_part3"
   ]
  },
  {
   "cell_type": "code",
   "execution_count": 150,
   "id": "8e9e346b",
   "metadata": {},
   "outputs": [
    {
     "name": "stdout",
     "output_type": "stream",
     "text": [
      "      T    TM   Tm     SLP     H   VV    V    VM      PM 2.5\n",
      "0   7.4   9.8  4.8  1017.6  93.0  0.5  4.3   9.4  219.720833\n",
      "1   7.8  12.7  4.4  1018.5  87.0  0.6  4.4  11.1  182.187500\n",
      "2   6.7  13.4  2.4  1019.4  82.0  0.6  4.8  11.1  154.037500\n",
      "3   8.6  15.5  3.3  1018.7  72.0  0.8  8.1  20.6  223.208333\n",
      "4  12.4  20.9  4.4  1017.3  61.0  1.3  8.7  22.2  200.645833\n",
      "         T    TM    Tm     SLP     H   VV     V    VM      PM 2.5\n",
      "1088  18.1  24.0  11.2  1015.4  56.0  1.8  15.9  25.9  288.416667\n",
      "1089  17.8  25.0  10.7  1015.8  54.0  2.3   9.4  22.2  256.833333\n",
      "1090  13.9  24.5  11.4  1015.0  95.0  0.6   8.7  14.8  169.000000\n",
      "1091  16.3  23.0   9.8  1016.9  78.0  1.1   7.4  16.5  186.041667\n",
      "1092  16.3  23.4   9.0  1017.3  68.0  1.3   7.8  18.3  185.583333\n",
      "                 T           TM           Tm          SLP            H  \\\n",
      "count  1093.000000  1093.000000  1093.000000  1093.000000  1093.000000   \n",
      "mean     26.009241    32.482251    19.460201  1008.081885    62.918573   \n",
      "std       7.237401     6.679078     7.438653     7.529237    15.709816   \n",
      "min       6.700000     9.800000     0.000000   991.500000    20.000000   \n",
      "25%      19.300000    27.800000    12.100000  1001.100000    54.000000   \n",
      "50%      28.200000    34.200000    21.200000  1008.100000    64.000000   \n",
      "75%      31.700000    37.000000    26.000000  1015.000000    74.000000   \n",
      "max      38.500000    45.500000    32.700000  1023.200000    98.000000   \n",
      "\n",
      "                VV            V           VM       PM 2.5  \n",
      "count  1093.000000  1093.000000  1093.000000  1093.000000  \n",
      "mean      2.003111     6.751510    15.805124   109.193333  \n",
      "std       0.747541     3.841137     7.308435    84.494886  \n",
      "min       0.300000     0.400000     1.900000     0.000000  \n",
      "25%       1.600000     3.700000    11.100000    41.875000  \n",
      "50%       1.900000     6.500000    14.800000    83.458333  \n",
      "75%       2.600000     9.100000    18.300000   158.291667  \n",
      "max       5.800000    24.400000    57.600000   404.500000  \n",
      "             T        TM        Tm       SLP         H        VV         V  \\\n",
      "0     0.022013  0.000000  0.146789  0.823344  0.935897  0.036364  0.162500   \n",
      "1     0.034591  0.081232  0.134557  0.851735  0.858974  0.054545  0.166667   \n",
      "2     0.000000  0.100840  0.073394  0.880126  0.794872  0.054545  0.183333   \n",
      "3     0.059748  0.159664  0.100917  0.858044  0.666667  0.090909  0.320833   \n",
      "4     0.179245  0.310924  0.134557  0.813880  0.525641  0.181818  0.345833   \n",
      "...        ...       ...       ...       ...       ...       ...       ...   \n",
      "1088  0.358491  0.397759  0.342508  0.753943  0.461538  0.272727  0.645833   \n",
      "1089  0.349057  0.425770  0.327217  0.766562  0.435897  0.363636  0.375000   \n",
      "1090  0.226415  0.411765  0.348624  0.741325  0.961538  0.054545  0.345833   \n",
      "1091  0.301887  0.369748  0.299694  0.801262  0.743590  0.145455  0.291667   \n",
      "1092  0.301887  0.380952  0.275229  0.813880  0.615385  0.181818  0.308333   \n",
      "\n",
      "            VM      PM 2.5  \n",
      "0     0.134650  219.720833  \n",
      "1     0.165171  182.187500  \n",
      "2     0.165171  154.037500  \n",
      "3     0.335727  223.208333  \n",
      "4     0.364452  200.645833  \n",
      "...        ...         ...  \n",
      "1088  0.430880  288.416667  \n",
      "1089  0.364452  256.833333  \n",
      "1090  0.231598  169.000000  \n",
      "1091  0.262118  186.041667  \n",
      "1092  0.294434  185.583333  \n",
      "\n",
      "[1093 rows x 9 columns]\n"
     ]
    }
   ],
   "source": [
    "## Library upload\n",
    "import  pandas as pd\n",
    "import numpy as np\n",
    "\n",
    "\n",
    "\n",
    "## Data upload \n",
    "Air_Quality = pd.read_csv('D:\\Data_A\\Project\\Real_Combine.csv')\n",
    "\n",
    "\n",
    "\n",
    "## Data cleaning \n",
    "Air_Quality.isnull().sum()\n",
    "Air_Quality[Air_Quality['PM 2.5'].isnull()]\n",
    "\n",
    "\n",
    "\n",
    "## Data update\n",
    "Air_Quality_Updated = Air_Quality.interpolate()\n",
    "# display(Air_Quality_Updated)\n",
    "\n",
    "\n",
    "\n",
    "## Data pattern\n",
    "print(Air_Quality_Updated.head())\n",
    "print(Air_Quality_Updated.tail())\n",
    "\n",
    "\n",
    "## Statistical analysis of data \n",
    "print(Air_Quality_Updated.describe())\n",
    "\n",
    "\n",
    "\n",
    "\n",
    "## Data visualization \n",
    "# from matplotlib import pyplot as plt \n",
    "# import seaborn as sns\n",
    "# sns.heatmap(Air_Quality_Updated.isnull(), yticklabels=False)\n",
    "\n",
    "\n",
    "\n",
    "\n",
    "## Pairplot\n",
    "# sns.pairplot(Air_Quality_Updated)\n",
    "# plt.savefig(\"pairplot.png\")\n",
    "\n",
    "\n",
    "\n",
    "## Data outlayers using boxplot\n",
    "# import matplotlib.pyplot as plt\n",
    "\n",
    "# a4_dims=(11.7, 8.27)\n",
    "# flg, ax= plt.subplots(figsize=a4_dims)\n",
    "# g=sns.boxplot(data=Air_Quality_Updated, linewidth=2.5, ax=ax)\n",
    "# g.set_yscale(\"log\")\n",
    "# plt.savefig(\"boxplot.png\")\n",
    "# plt.show()\n",
    "\n",
    "\n",
    "\n",
    "\n",
    "## Data normalization \n",
    "target = Air_Quality_Updated['PM 2.5']\n",
    "Air_Quality_Updated = Air_Quality_Updated.iloc[:,:-1].apply(lambda x: (x-x.min(axis=0)) / (x.max(axis=0)-x.min(axis=0)))\n",
    "Air_Quality_Updated['PM 2.5'] = target\n",
    "\n",
    "\n",
    "\n",
    "## Variance or co-variance\n",
    "#print(Air_Quality_Updated.corr())\n",
    "\n",
    "\n",
    "\n",
    "\n",
    "new_data = pd.DataFrame(data = Air_Quality_Updated)\n",
    "print(new_data)"
   ]
  },
  {
   "cell_type": "code",
   "execution_count": 151,
   "id": "2be4071b-2849-4889-bac7-01e457992b66",
   "metadata": {},
   "outputs": [
    {
     "name": "stdout",
     "output_type": "stream",
     "text": [
      "For 2 components total variance:  0.8338691291525626\n",
      "For 3 components total variance:  0.9267355190616648\n",
      "For 4 components total variance:  0.9602392555156882\n",
      "For 5 components total variance:  0.9770564443524145\n",
      "For 6 components total variance:  0.9927145395600616\n",
      "For 7 components total variance:  0.9982415241024583\n"
     ]
    }
   ],
   "source": [
    "### feature reduction by PCA technique\n",
    "\n",
    "\n",
    "## separate dataset into attributes and target\n",
    "cols = ['T', 'TM', 'Tm', 'SLP', 'H', 'VV', 'V', 'VM'] \n",
    "x = new_data.loc[:, cols].values\n",
    "y = new_data.loc[:, ['PM 2.5']].values\n",
    "\n",
    "\n",
    "from sklearn.decomposition import PCA    \n",
    "for i in range(2,8):\n",
    "    pca = PCA(n_components = i)\n",
    "    pca_components = pca.fit_transform(x)\n",
    "    print('For', i, 'components', 'total variance: ', sum(pca.explained_variance_ratio_))\n",
    "    #pca_components = pca.fit_transform(x)\n",
    "    \n",
    "    \n",
    "### we can select 6 components\n",
    "pca = PCA(n_components = 6)\n",
    "pca_components = pca.fit_transform(x)\n",
    "pca_new_data = pd.DataFrame(data = pca_components, columns = ['PC1', 'PC2', 'PC3', 'PC4', 'PC5', 'PC6'])\n",
    "pca_new_data = pd.concat([pca_new_data, new_data[['PM 2.5']]], axis = 1)\n"
   ]
  },
  {
   "cell_type": "code",
   "execution_count": 152,
   "id": "758a2eb2",
   "metadata": {},
   "outputs": [],
   "source": [
    "## Decision tree (1st model)"
   ]
  },
  {
   "cell_type": "code",
   "execution_count": 153,
   "id": "2f809c9f",
   "metadata": {},
   "outputs": [
    {
     "name": "stdout",
     "output_type": "stream",
     "text": [
      "Training set score:  0.8109409420137816\n",
      "Testing set score:  0.6875906168565988\n",
      "Mean Squared Error:  2579.668005570406\n",
      "Mean Absloute Error:  35.106077915066486\n",
      "R2 Score:  0.6875906168565988\n"
     ]
    }
   ],
   "source": [
    "# Train test split\n",
    "from sklearn.model_selection import train_test_split\n",
    "X_train, X_test, y_train, y_test = train_test_split(pca_new_data.iloc[:,:-1], pca_new_data.iloc[:,-1], random_state=10)\n",
    "\n",
    "\n",
    "\n",
    "## Training the model\n",
    "from sklearn.tree import DecisionTreeRegressor\n",
    "reg_decision_model = DecisionTreeRegressor(max_depth=6)\n",
    "# fit independent varaibles to the dependent variables\n",
    "reg_decision_model.fit(X_train,y_train)\n",
    "predicted = reg_decision_model.predict(X_test)\n",
    "expected  = y_test\n",
    "\n",
    "\n",
    "\n",
    "## Check for overfit\n",
    "print(\"Training set score: \", reg_decision_model.score(X_train,y_train))\n",
    "print(\"Testing set score: \", reg_decision_model.score(X_test,y_test))\n",
    "\n",
    "\n",
    "\n",
    "## Decision Tree Model Evaluation\n",
    "from sklearn import metrics\n",
    "print(\"Mean Squared Error: \", metrics.mean_squared_error(expected, predicted))\n",
    "print(\"Mean Absloute Error: \", metrics.mean_absolute_error(expected,predicted))\n",
    "print(\"R2 Score: \", metrics.r2_score(expected,predicted))\n"
   ]
  },
  {
   "cell_type": "code",
   "execution_count": null,
   "id": "3fb9208c-f529-4299-ac77-75fae40055a2",
   "metadata": {},
   "outputs": [],
   "source": []
  },
  {
   "cell_type": "code",
   "execution_count": null,
   "id": "0c25d765-bddc-46ea-9914-34f363d93805",
   "metadata": {},
   "outputs": [],
   "source": []
  },
  {
   "cell_type": "code",
   "execution_count": null,
   "id": "013f84e1-0aeb-426f-bb81-2a6cc296cdb3",
   "metadata": {},
   "outputs": [],
   "source": []
  },
  {
   "cell_type": "code",
   "execution_count": null,
   "id": "061ca574-f672-4c85-824c-269e1baf6dd5",
   "metadata": {},
   "outputs": [],
   "source": []
  },
  {
   "cell_type": "code",
   "execution_count": null,
   "id": "9a093ff6-891e-4a20-b4ce-c1bd820eeadb",
   "metadata": {},
   "outputs": [],
   "source": []
  },
  {
   "cell_type": "code",
   "execution_count": null,
   "id": "4ea47ada-ea88-48af-8944-fd49637f0c82",
   "metadata": {},
   "outputs": [],
   "source": []
  },
  {
   "cell_type": "code",
   "execution_count": null,
   "id": "0017683e",
   "metadata": {},
   "outputs": [],
   "source": []
  },
  {
   "cell_type": "code",
   "execution_count": 154,
   "id": "d311ccf6",
   "metadata": {},
   "outputs": [],
   "source": [
    "## Analysis using KNN model  "
   ]
  },
  {
   "cell_type": "code",
   "execution_count": 155,
   "id": "30176e05",
   "metadata": {
    "scrolled": true
   },
   "outputs": [
    {
     "name": "stdout",
     "output_type": "stream",
     "text": [
      "        PC1       PC2       PC3       PC4       PC5       PC6      PM 2.5  \\\n",
      "0  1.077201 -0.158603  0.223166 -0.044292 -0.155649 -0.041812  219.720833   \n",
      "1  1.032549 -0.076819  0.172960 -0.049750 -0.132246 -0.015550  182.187500   \n",
      "2  1.067619  0.003353  0.141606 -0.061500 -0.154016 -0.020869  154.037500   \n",
      "3  0.913080  0.202194  0.225245 -0.084376 -0.128428  0.028105  223.208333   \n",
      "4  0.697821  0.308357  0.139972 -0.055884 -0.122214  0.045140  200.645833   \n",
      "\n",
      "  target  \n",
      "0      C  \n",
      "1      C  \n",
      "2      C  \n",
      "3      C  \n",
      "4      C  \n",
      "        PC1       PC2       PC3       PC4       PC5       PC6      PM 2.5  \\\n",
      "0  1.077201 -0.158603  0.223166 -0.044292 -0.155649 -0.041812  219.720833   \n",
      "1  1.032549 -0.076819  0.172960 -0.049750 -0.132246 -0.015550  182.187500   \n",
      "2  1.067619  0.003353  0.141606 -0.061500 -0.154016 -0.020869  154.037500   \n",
      "3  0.913080  0.202194  0.225245 -0.084376 -0.128428  0.028105  223.208333   \n",
      "4  0.697821  0.308357  0.139972 -0.055884 -0.122214  0.045140  200.645833   \n",
      "\n",
      "  target  \n",
      "0      C  \n",
      "1      C  \n",
      "2      C  \n",
      "3      C  \n",
      "4      C  \n"
     ]
    }
   ],
   "source": [
    "## Change the target column to categorical so that the problem becomes classification problem\n",
    "pca_new_data['target'] = pd.qcut(pca_new_data['PM 2.5'], 3, labels=list('ABC'))\n",
    "print(pca_new_data.head())\n",
    "\n",
    "\n",
    "## Dropping the old target column: PM 2.5 \n",
    "new_data = pca_new_data.drop(labels = ['PM 2.5'], axis  = 1)\n",
    "print(pca_new_data.head())"
   ]
  },
  {
   "cell_type": "code",
   "execution_count": 156,
   "id": "c71bf2ce",
   "metadata": {},
   "outputs": [],
   "source": [
    "new_x = new_data.iloc[:,:6]\n",
    "new_y = new_data.iloc[:,6]\n",
    "\n",
    "\n",
    "\n",
    "## Splitting the dataset\n",
    "from sklearn.model_selection import train_test_split\n",
    "X_train, X_test, y_train, y_test = train_test_split(new_x, new_y, random_state=10)"
   ]
  },
  {
   "cell_type": "code",
   "execution_count": 163,
   "id": "d9cbbf1d",
   "metadata": {},
   "outputs": [
    {
     "name": "stdout",
     "output_type": "stream",
     "text": [
      "K = 2   \tMean Accuracy = 74.36%\t\tStandard Deviation = 0.066\n",
      "K = 3   \tMean Accuracy = 72.29%\t\tStandard Deviation = 0.049\n",
      "K = 4   \tMean Accuracy = 69.36%\t\tStandard Deviation = 0.04\n",
      "K = 5   \tMean Accuracy = 70.33%\t\tStandard Deviation = 0.03\n",
      "K = 6   \tMean Accuracy = 70.45%\t\tStandard Deviation = 0.045\n",
      "\n",
      " Mismatched Prdiction: \n",
      "[('A', 'B'), ('B', 'C'), ('B', 'C'), ('C', 'B'), ('A', 'B'), ('B', 'A'), ('B', 'A'), ('A', 'B'), ('B', 'C'), ('C', 'B'), ('A', 'C'), ('B', 'A'), ('B', 'C'), ('B', 'C'), ('A', 'B'), ('B', 'C'), ('A', 'C'), ('A', 'B'), ('B', 'A'), ('B', 'C'), ('B', 'C'), ('B', 'C'), ('A', 'C'), ('C', 'B'), ('B', 'A'), ('B', 'A'), ('C', 'B'), ('A', 'B'), ('C', 'B'), ('A', 'C'), ('A', 'B'), ('B', 'A'), ('C', 'B'), ('A', 'C'), ('A', 'B'), ('B', 'A'), ('B', 'A'), ('A', 'B'), ('C', 'B'), ('A', 'B'), ('B', 'C'), ('C', 'B'), ('C', 'B'), ('B', 'C'), ('A', 'B'), ('A', 'B'), ('C', 'B'), ('B', 'A'), ('B', 'C'), ('A', 'B'), ('B', 'C'), ('A', 'B'), ('C', 'B')] \n",
      "\n",
      "\n"
     ]
    },
    {
     "data": {
      "image/png": "[encoded data removed]",
      "text/plain": [
       "<Figure size 432x288 with 2 Axes>"
      ]
     },
     "metadata": {
      "needs_background": "light"
     },
     "output_type": "display_data"
    },
    {
     "name": "stdout",
     "output_type": "stream",
     "text": [
      "\n",
      "Classification Report: \n",
      "\n",
      "              precision    recall  f1-score   support\n",
      "\n",
      "           A       0.83      0.90      0.86       101\n",
      "           B       0.71      0.69      0.70        81\n",
      "           C       0.87      0.80      0.84        92\n",
      "\n",
      "    accuracy                           0.81       274\n",
      "   macro avg       0.80      0.80      0.80       274\n",
      "weighted avg       0.81      0.81      0.81       274\n",
      "\n"
     ]
    }
   ],
   "source": [
    "from sklearn import preprocessing\n",
    "from sklearn import utils\n",
    "from sklearn.datasets  import load_breast_cancer\n",
    "from sklearn.decomposition import PCA\n",
    "import pandas as pd\n",
    "import numpy as np\n",
    "import seaborn as sns\n",
    "import matplotlib.pyplot as plt\n",
    "from sklearn.metrics import confusion_matrix\n",
    "from sklearn.neighbors import KNeighborsClassifier\n",
    "from sklearn.model_selection import KFold, cross_val_score\n",
    "\n",
    "# training the model for different k value\n",
    "\n",
    "for k in range (2,7):\n",
    "    kfold = KFold(n_splits=10, random_state = 10, shuffle = True)\n",
    "    knn = KNeighborsClassifier(n_neighbors=k)\n",
    "    scores = cross_val_score(estimator = knn, X = X_train, y = y_train, cv = kfold)\n",
    "    print('K = {0:<4}\\tMean Accuracy = {1:.2%}\\t\\tStandard Deviation = {2:.2}'.format(k,scores.mean(), scores.std()))\n",
    "    \n",
    "    \n",
    "    \n",
    "    \n",
    "## Training the model for n_neighbors = 2\n",
    "knn = KNeighborsClassifier(n_neighbors = 2)\n",
    "knn.fit(X = X_train, y = y_train)\n",
    "predicted = knn.predict(X_test)\n",
    "expected = y_test\n",
    "\n",
    "\n",
    "## Printing the mismatched prediction\n",
    "print('\\n Mismatched Prdiction: ')\n",
    "wrong = [(p,e) for (p,e) in zip (predicted,expected) if p!=e]\n",
    "print(wrong,\"\\n\\n\")\n",
    "\n",
    "\n",
    "\n",
    "## Plotting the confusion matrix\n",
    "from sklearn.metrics import confusion_matrix\n",
    "confusion  = confusion_matrix(y_true = expected, y_pred = predicted)\n",
    "confusion_df= pd.DataFrame(confusion, index = range(3), columns = range(3))\n",
    "sns.heatmap(confusion_df, annot= True, cmap = 'Reds')\n",
    "plt.show()\n",
    "\n",
    "\n",
    "# Classification report \n",
    "from sklearn.metrics import classification_report\n",
    "print('\\nClassification Report: \\n')\n",
    "print(classification_report(expected, predicted))"
   ]
  },
  {
   "cell_type": "code",
   "execution_count": null,
   "id": "ccfe1df9",
   "metadata": {},
   "outputs": [],
   "source": []
  },
  {
   "cell_type": "code",
   "execution_count": null,
   "id": "90b41c58",
   "metadata": {},
   "outputs": [],
   "source": []
  },
  {
   "cell_type": "code",
   "execution_count": null,
   "id": "4a24a072",
   "metadata": {},
   "outputs": [],
   "source": []
  },
  {
   "cell_type": "code",
   "execution_count": 164,
   "id": "c049998c",
   "metadata": {},
   "outputs": [],
   "source": []
  },
  {
   "cell_type": "code",
   "execution_count": 169,
   "id": "9c1103ba",
   "metadata": {},
   "outputs": [
    {
     "name": "stdout",
     "output_type": "stream",
     "text": [
      "\n",
      " Mismatched Prdiction: \n",
      "[('A', 'B'), ('B', 'A'), ('B', 'C'), ('C', 'B'), ('A', 'B'), ('B', 'A'), ('B', 'A'), ('B', 'C'), ('C', 'A'), ('B', 'C'), ('A', 'B'), ('B', 'A'), ('B', 'C'), ('B', 'A'), ('B', 'A'), ('B', 'A'), ('C', 'B'), ('B', 'A'), ('C', 'B'), ('C', 'B'), ('B', 'C'), ('B', 'A'), ('B', 'A'), ('C', 'B'), ('A', 'C'), ('B', 'A'), ('B', 'A'), ('B', 'A'), ('A', 'B'), ('A', 'B'), ('C', 'B'), ('A', 'B'), ('C', 'B'), ('A', 'B'), ('B', 'C'), ('C', 'B'), ('B', 'A'), ('B', 'A'), ('B', 'C'), ('A', 'B'), ('C', 'B')] \n",
      "\n",
      "\n"
     ]
    },
    {
     "data": {
      "image/png": "[encoded data removed]",
      "text/plain": [
       "<Figure size 432x288 with 2 Axes>"
      ]
     },
     "metadata": {
      "needs_background": "light"
     },
     "output_type": "display_data"
    },
    {
     "name": "stdout",
     "output_type": "stream",
     "text": [
      "\n",
      "Classification Report: \n",
      "\n",
      "              precision    recall  f1-score   support\n",
      "\n",
      "           A       0.90      0.84      0.87       101\n",
      "           B       0.74      0.79      0.77        81\n",
      "           C       0.89      0.91      0.90        92\n",
      "\n",
      "    accuracy                           0.85       274\n",
      "   macro avg       0.85      0.85      0.85       274\n",
      "weighted avg       0.85      0.85      0.85       274\n",
      "\n"
     ]
    }
   ],
   "source": [
    "## Random forest \n",
    "\n",
    "from numpy import mean\n",
    "from numpy import std\n",
    "from sklearn.datasets import make_classification\n",
    "from sklearn.model_selection import cross_val_score\n",
    "from sklearn.model_selection import RepeatedStratifiedKFold\n",
    "from sklearn.ensemble import RandomForestClassifier\n",
    "\n",
    "\n",
    "# define the model\n",
    "model = RandomForestClassifier()\n",
    "\n",
    "\n",
    "# # evaluate the model\n",
    "# cv = RepeatedStratifiedKFold(n_splits=10, n_repeats=3, random_state=1)\n",
    "# n_scores = cross_val_score(model, X_train, y_train, scoring='accuracy', cv=cv, n_jobs=-1, error_score='raise')\n",
    "# # report performance\n",
    "# print('Accuracy: %.3f' % (mean(n_scores)))\n",
    "\n",
    "model.fit(X = X_train, y = y_train)\n",
    "predicted = model.predict(X_test)\n",
    "expected = y_test\n",
    "\n",
    "\n",
    "\n",
    "\n",
    "\n",
    "print('\\n Mismatched Prdiction: ')\n",
    "wrong = [(p,e) for (p,e) in zip (predicted,expected) if p!=e]\n",
    "print(wrong,\"\\n\\n\")\n",
    "\n",
    "\n",
    "\n",
    "from sklearn.metrics import confusion_matrix\n",
    "confusion  = confusion_matrix(y_true = expected, y_pred = predicted)\n",
    "confusion_df= pd.DataFrame(confusion, index = range(3), columns = range(3))\n",
    "sns.heatmap(confusion_df, annot= True, cmap = 'Reds')\n",
    "plt.show()\n",
    "\n",
    "\n",
    "# Classification report \n",
    "from sklearn.metrics import classification_report\n",
    "print('\\nClassification Report: \\n')\n",
    "print(classification_report(expected, predicted))"
   ]
  }
 ],
 "metadata": {
  "kernelspec": {
   "display_name": "Python 3 (ipykernel)",
   "language": "python",
   "name": "python3"
  },
  "language_info": {
   "codemirror_mode": {
    "name": "ipython",
    "version": 3
   },
   "file_extension": ".py",
   "mimetype": "text/x-python",
   "name": "python",
   "nbconvert_exporter": "python",
   "pygments_lexer": "ipython3",
   "version": "3.9.7"
  }
 },
 "nbformat": 4,
 "nbformat_minor": 5
}
