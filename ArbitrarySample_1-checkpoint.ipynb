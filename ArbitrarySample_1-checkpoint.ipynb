{
 "cells": [
  {
   "cell_type": "code",
   "execution_count": null,
   "id": "02ab7a71",
   "metadata": {},
   "outputs": [],
   "source": []
  },
  {
   "cell_type": "code",
   "execution_count": 42,
   "id": "c4d77570",
   "metadata": {},
   "outputs": [
    {
     "data": {
      "image/png": "[encoded data removed]",
      "text/plain": [
       "<Figure size 432x288 with 1 Axes>"
      ]
     },
     "metadata": {
      "needs_background": "light"
     },
     "output_type": "display_data"
    }
   ],
   "source": [
    "import matplotlib.pyplot as plt\n",
    "import pandas as pd\n",
    "import numpy as np\n",
    "\n",
    "r2 = 7.132\n",
    "e = .05\n",
    "v = .2\n",
    "eprime = e\n",
    "t = 2.14\n",
    "\n",
    "skip = np.arange(0,1)\n",
    "headers = ['time', 'extension', 'load']  \n",
    "df = pd.read_csv('D:\\\\Yang\\\\Practice\\\\Specimen_RawData_1_1.csv',names = headers, skiprows=skip)\n",
    "\n",
    "from scipy.interpolate import interp1d\n",
    "\n",
    "time1 = np.arange(0,56)\n",
    "d1 = interp1d(df['time'],df['extension'], fill_value = 'extrapolate')\n",
    "d = d1(time1)\n",
    "\n",
    "f1 = interp1d(df['time'],df['load'], fill_value = 'extrapolate')\n",
    "P = f1(time1)\n",
    "M = (P/4/np.pi)*((1+v)*np.log(r2/2/eprime)+1)\n",
    "E = 1.4177*(10**-6)*(320**3.25)/1000\n",
    "D = (E*(t**3))/(12*(1-(v**2)))\n",
    "\n",
    "stress = 6*M/(t**2)\n",
    "dmax = ((3+v)*P.max()*((r2/2**2)))/(16*np.pi*(1+v)*D)*1000\n",
    "\n",
    "strain_per = d/dmax*100\n",
    "\n",
    "# plt.plot(strain_per, stress, '-', color = 'blue', label='7 days', lw=1) \n",
    "\n",
    "plt.plot(strain_per, stress, '-', color = 'g',label='7 Days')\n",
    "plt.legend(loc='best')\n",
    "plt.title('Aging Strengths', fontdict={'fontsize': 10})\n",
    "plt.xlabel('% Strain',fontdict={'fontsize': 10})\n",
    "plt.ylabel('Flexural Stress (MPa)',fontdict={'fontsize': 10})\n",
    "plt.show()\n",
    "\n"
   ]
  },
  {
   "cell_type": "code",
   "execution_count": null,
   "id": "78e338e4",
   "metadata": {},
   "outputs": [],
   "source": []
  },
  {
   "cell_type": "code",
   "execution_count": 39,
   "id": "6455b300",
   "metadata": {},
   "outputs": [
    {
     "data": {
      "text/plain": [
       "[<matplotlib.lines.Line2D at 0x232213ab5b0>]"
      ]
     },
     "execution_count": 39,
     "metadata": {},
     "output_type": "execute_result"
    },
    {
     "data": {
      "image/png": "[encoded data removed]",
      "text/plain": [
       "<Figure size 432x288 with 1 Axes>"
      ]
     },
     "metadata": {
      "needs_background": "light"
     },
     "output_type": "display_data"
    }
   ],
   "source": [
    "import matplotlib.pyplot as plt\n",
    "import pandas as pd\n",
    "import numpy as np\n",
    "\n",
    "r2 = 7.132\n",
    "e = .05\n",
    "v = .2\n",
    "eprime = e\n",
    "t = 2.14\n",
    "\n",
    "skip = np.arange(0,1)\n",
    "headers = ['time', 'extension', 'load']  \n",
    "df = pd.read_csv('D:\\\\Yang\\\\Practice\\\\Specimen_RawData_2.csv',names = headers, skiprows=skip)\n",
    "\n",
    "from scipy.interpolate import interp1d\n",
    "\n",
    "time1 = np.arange(0,26)\n",
    "d1 = interp1d(df['time'],df['extension'], fill_value = 'extrapolate')\n",
    "d = d1(time1)\n",
    "\n",
    "f1 = interp1d(df['time'],df['load'], fill_value = 'extrapolate')\n",
    "P = f1(time1)\n",
    "M = (P/4/np.pi)*((1+v)*np.log(r2/2/eprime)+1)\n",
    "E = 1.4177*(10**-6)*(320**3.25)/1000\n",
    "D = (E*(t**3))/(12*(1-(v**2)))\n",
    "\n",
    "stress = 6*M/(t**2)\n",
    "dmax = ((3+v)*P.max()*((r2/2**2)))/(16*np.pi*(1+v)*D)*1000\n",
    "\n",
    "strain_per = d/dmax*100\n",
    "\n",
    "plt.plot(strain_per, stress, '-', color = 'blue', label='7 days', lw=1)\n",
    "\n"
   ]
  },
  {
   "cell_type": "code",
   "execution_count": null,
   "id": "3db27cbc",
   "metadata": {},
   "outputs": [],
   "source": []
  },
  {
   "cell_type": "code",
   "execution_count": null,
   "id": "d91a7e0e",
   "metadata": {},
   "outputs": [],
   "source": [
    "import matplotlib.pyplot as plt\n",
    "import pandas as pd\n",
    "import numpy as np\n",
    "\n",
    "r2 = 7.132\n",
    "e = .05\n",
    "v = .2\n",
    "eprime = e\n",
    "t = 2.14\n",
    "\n",
    "skip = np.arange(0,1)\n",
    "headers = ['time', 'extension', 'load']  \n",
    "df = pd.read_csv('D:\\\\Yang\\\\Practice\\\\Specimen_RawData_1_1.csv',names = headers, skiprows=skip)\n",
    "\n",
    "from scipy.interpolate import interp1d\n",
    "\n",
    "time1 = np.arange(0,56)\n",
    "d1 = interp1d(df['time'],df['extension'], fill_value = 'extrapolate')\n",
    "d = d1(time1)\n",
    "\n",
    "f1 = interp1d(df['time'],df['load'], fill_value = 'extrapolate')\n",
    "P = f1(time1)\n",
    "M = (P/4/np.pi)*((1+v)*np.log(r2/2/eprime)+1)\n",
    "E = 1.4177*(10**-6)*(320**3.25)/1000\n",
    "D = (E*(t**3))/(12*(1-(v**2)))\n",
    "\n",
    "stress = 6*M/(t**2)\n",
    "dmax = ((3+v)*P.max()*((r2/2**2)))/(16*np.pi*(1+v)*D)*1000\n",
    "\n",
    "strain_per = d/dmax*100\n",
    "\n",
    "# plt.plot(strain_per, stress, '-', color = 'blue', label='7 days', lw=1) \n",
    "\n",
    "plt.plot(strain_per, stress, '-', color = 'g',label='7 Days')\n",
    "plt.legend(loc='best')\n",
    "plt.title('Aging Strengths', fontdict={'fontsize': 10})\n",
    "plt.xlabel('% Strain',fontdict={'fontsize': 10})\n",
    "plt.ylabel('Flexural Stress (MPa)',fontdict={'fontsize': 10})\n",
    "plt.show()"
   ]
  },
  {
   "cell_type": "code",
   "execution_count": null,
   "id": "fa583574",
   "metadata": {},
   "outputs": [],
   "source": []
  },
  {
   "cell_type": "code",
   "execution_count": null,
   "id": "fae0d600",
   "metadata": {},
   "outputs": [],
   "source": []
  },
  {
   "cell_type": "code",
   "execution_count": null,
   "id": "622d4e5b",
   "metadata": {},
   "outputs": [],
   "source": []
  }
 ],
 "metadata": {
  "kernelspec": {
   "display_name": "Python 3 (ipykernel)",
   "language": "python",
   "name": "python3"
  },
  "language_info": {
   "codemirror_mode": {
    "name": "ipython",
    "version": 3
   },
   "file_extension": ".py",
   "mimetype": "text/x-python",
   "name": "python",
   "nbconvert_exporter": "python",
   "pygments_lexer": "ipython3",
   "version": "3.9.7"
  }
 },
 "nbformat": 4,
 "nbformat_minor": 5
}
