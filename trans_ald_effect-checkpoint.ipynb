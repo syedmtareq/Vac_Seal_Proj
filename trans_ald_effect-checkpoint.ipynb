{
 "cells": [
  {
   "cell_type": "code",
   "execution_count": 1,
   "metadata": {},
   "outputs": [
    {
     "ename": "ModuleNotFoundError",
     "evalue": "No module named 'matplotlib'",
     "output_type": "error",
     "traceback": [
      "\u001b[1;31m---------------------------------------------------------------------------\u001b[0m",
      "\u001b[1;31mModuleNotFoundError\u001b[0m                       Traceback (most recent call last)",
      "\u001b[1;32m~\\AppData\\Local\\Temp/ipykernel_3024/4136991964.py\u001b[0m in \u001b[0;36m<module>\u001b[1;34m\u001b[0m\n\u001b[0;32m      2\u001b[0m \u001b[1;32mimport\u001b[0m \u001b[0mpandas\u001b[0m \u001b[1;32mas\u001b[0m \u001b[0mpd\u001b[0m\u001b[1;33m\u001b[0m\u001b[1;33m\u001b[0m\u001b[0m\n\u001b[0;32m      3\u001b[0m \u001b[1;32mimport\u001b[0m \u001b[0mcsv\u001b[0m\u001b[1;33m\u001b[0m\u001b[1;33m\u001b[0m\u001b[0m\n\u001b[1;32m----> 4\u001b[1;33m \u001b[1;32mimport\u001b[0m \u001b[0mmatplotlib\u001b[0m\u001b[1;33m.\u001b[0m\u001b[0mpyplot\u001b[0m \u001b[1;32mas\u001b[0m \u001b[0mplt\u001b[0m\u001b[1;33m\u001b[0m\u001b[1;33m\u001b[0m\u001b[0m\n\u001b[0m\u001b[0;32m      5\u001b[0m \u001b[1;33m\u001b[0m\u001b[0m\n\u001b[0;32m      6\u001b[0m headers = ['wave','0cy','10cy','25cy','50cy','100cy','sol_wave','sol_15am',\n",
      "\u001b[1;31mModuleNotFoundError\u001b[0m: No module named 'matplotlib'"
     ]
    }
   ],
   "source": [
    "import numpy as np\n",
    "import pandas as pd\n",
    "import csv\n",
    "import matplotlib.pyplot as plt\n",
    "\n",
    "headers = ['wave','0cy','10cy','25cy','50cy','100cy','sol_wave','sol_15am',\n",
    "           'cl_wave','cl_0cy','cl_10cy','cl_25cy','cl_50cy','cl_100cy' ]\n",
    "df = pd.read_csv('C:\\\\Users\\\\x250\\\\Downloads\\\\trans_ald_effect.csv', names=headers, skiprows=[0])\n",
    "\n",
    "plt.plot(df['wave'], df['0cy'], '-',color='red', label='No coating', lw=1)\n",
    "plt.plot(df['wave'], df['10cy'], '-', color='orange', label='10 cycles', lw=1)\n",
    "plt.plot(df['wave'], df['25cy'], '-', color='blue', label='25 Cycles', lw=1)\n",
    "plt.plot(df['wave'], df['50cy'], '-', color='green', label='50 Cycles', lw=1)\n",
    "plt.plot(df['wave'], df['100cy'], '-', color='purple', label='100 Cycles', lw=1)\n",
    "\n",
    "plt.xlabel('Wavelength ($nm$)')\n",
    "plt.ylabel('Transmittance (%)')\n",
    "plt.xticks(np.arange(0, 2501, 500))\n",
    "plt.xlim([250, 2500])\n",
    "plt.ylim([50, 102])\n",
    "plt.legend(loc='best', bbox_to_anchor=(0.03, 0.4))\n",
    "plt.savefig('trans_ald_effect.jpeg', format='jpeg', dpi=1000)\n",
    "plt.show()"
   ]
  },
  {
   "cell_type": "code",
   "execution_count": 39,
   "metadata": {},
   "outputs": [
    {
     "name": "stdout",
     "output_type": "stream",
     "text": [
      "0.9802939985316201\n"
     ]
    },
    {
     "name": "stderr",
     "output_type": "stream",
     "text": [
      "C:\\Users\\x250\\Anaconda3\\lib\\site-packages\\ipykernel_launcher.py:14: IntegrationWarning: The maximum number of subdivisions (50) has been achieved.\n",
      "  If increasing the limit yields no improvement it is advised to analyze \n",
      "  the integrand in order to determine the difficulties.  If the position of a \n",
      "  local difficulty can be determined (singularity, discontinuity) one will \n",
      "  probably gain from splitting up the interval and calling the integrator \n",
      "  on the subranges.  Perhaps a special-purpose integrator should be used.\n",
      "  \n",
      "C:\\Users\\x250\\Anaconda3\\lib\\site-packages\\ipykernel_launcher.py:15: IntegrationWarning: The maximum number of subdivisions (50) has been achieved.\n",
      "  If increasing the limit yields no improvement it is advised to analyze \n",
      "  the integrand in order to determine the difficulties.  If the position of a \n",
      "  local difficulty can be determined (singularity, discontinuity) one will \n",
      "  probably gain from splitting up the interval and calling the integrator \n",
      "  on the subranges.  Perhaps a special-purpose integrator should be used.\n",
      "  from ipykernel import kernelapp as app\n"
     ]
    }
   ],
   "source": [
    "wave = np.linspace(251,2500,2250)\n",
    "\n",
    "from scipy.interpolate import interp1d\n",
    "sol_temp = interp1d(df['sol_wave'], df['sol_15am'], fill_value='extrapolate')\n",
    "sol = sol_temp(wave)\n",
    "\n",
    "cy0_temp = interp1d(df['wave'], df['100cy'], fill_value='extrapolate')\n",
    "cy0 = cy0_temp(wave)\n",
    "\n",
    "wt_sol = sol*cy0/100\n",
    "wt_sol_temp = interp1d(wave, wt_sol, fill_value='extrapolate')\n",
    "\n",
    "from scipy.integrate import quad\n",
    "sol_quad = quad(sol_temp, 280, 2499)[0]\n",
    "wt_sol_quad = quad(wt_sol_temp, 280, 2499)[0]\n",
    "wt_sol_value = wt_sol_quad/sol_quad\n",
    "print(wt_sol_value)\n",
    "\n",
    "p1 = lambda w: quad(sol_temp, 280, w)[0]\n",
    "p2 = lambda w: quad(wt_sol_temp, 280, w)[0]\n",
    "p3 = lambda w: quad(sol_temp, w, 2499)[0]\n",
    "\n",
    "#cum_loss calculation via integration function of wave (w)\n",
    "w  = np.arange(250,2501,10)\n",
    "p1_scan = np.array(list(map(p1, w)))\n",
    "p2_scan = np.array(list(map(p2, w)))\n",
    "p3_scan = np.array(list(map(p3, w)))\n",
    "cum_loss= (p1_scan-p2_scan)/(p1_scan+p3_scan)*100\n",
    "\n",
    "from scipy.signal import savgol_filter\n",
    "cum_loss = savgol_filter(cum_loss, 51, 2)\n",
    "\n",
    "np.savetxt(\"file_name.csv\", cum_loss, delimiter=\",\", fmt='%s')"
   ]
  },
  {
   "cell_type": "code",
   "execution_count": 28,
   "metadata": {},
   "outputs": [],
   "source": [
    "cl_wave = np.arange(250,2501,10)\n",
    "np.savetxt(\"cl_wave.csv\", cl_wave, delimiter=\",\", fmt='%s')"
   ]
  }
 ],
 "metadata": {
  "kernelspec": {
   "display_name": "Python 3 (ipykernel)",
   "language": "python",
   "name": "python3"
  },
  "language_info": {
   "codemirror_mode": {
    "name": "ipython",
    "version": 3
   },
   "file_extension": ".py",
   "mimetype": "text/x-python",
   "name": "python",
   "nbconvert_exporter": "python",
   "pygments_lexer": "ipython3",
   "version": "3.9.7"
  }
 },
 "nbformat": 4,
 "nbformat_minor": 2
}
