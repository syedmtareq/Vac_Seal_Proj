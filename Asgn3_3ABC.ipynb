{
 "cells": [
  {
   "cell_type": "markdown",
   "id": "46995297",
   "metadata": {},
   "source": [
    "# Ans of Ques 3"
   ]
  },
  {
   "cell_type": "code",
   "execution_count": 2,
   "id": "5fcd36e6",
   "metadata": {},
   "outputs": [],
   "source": [
    "# Loading the dataset"
   ]
  },
  {
   "cell_type": "code",
   "execution_count": 3,
   "id": "6d5bad0d",
   "metadata": {},
   "outputs": [],
   "source": [
    "from sklearn.datasets import load_diabetes"
   ]
  },
  {
   "cell_type": "code",
   "execution_count": 4,
   "id": "d9e3f7d8",
   "metadata": {},
   "outputs": [],
   "source": [
    "diabetics=load_diabetes()"
   ]
  },
  {
   "cell_type": "code",
   "execution_count": 5,
   "id": "0ebcc8d1",
   "metadata": {},
   "outputs": [
    {
     "name": "stdout",
     "output_type": "stream",
     "text": [
      ".. _diabetes_dataset:\n",
      "\n",
      "Diabetes dataset\n",
      "----------------\n",
      "\n",
      "Ten baseline variables, age, sex, body mass index, average blood\n",
      "pressure, and six blood serum measurements were obtained for each of n =\n",
      "442 diabetes patients, as well as the response of interest, a\n",
      "quantitative measure of disease progression one year after baseline.\n",
      "\n",
      "**Data Set Characteristics:**\n",
      "\n",
      "  :Number of Instances: 442\n",
      "\n",
      "  :Number of Attributes: First 10 columns are numeric predictive values\n",
      "\n",
      "  :Target: Column 11 is a quantitative measure of disease progression one year after baseline\n",
      "\n",
      "  :Attribute Information:\n",
      "      - age     age in years\n",
      "      - sex\n",
      "      - bmi     body mass index\n",
      "      - bp      average blood pressure\n",
      "      - s1      tc, total serum cholesterol\n",
      "      - s2      ldl, low-density lipoproteins\n",
      "      - s3      hdl, high-density lipoproteins\n",
      "      - s4      tch, total cholesterol / HDL\n",
      "      - s5      ltg, possibly log of serum triglycerides level\n",
      "      - s6      glu, blood sugar level\n",
      "\n",
      "Note: Each of these 10 feature variables have been mean centered and scaled by the standard deviation times `n_samples` (i.e. the sum of squares of each column totals 1).\n",
      "\n",
      "Source URL:\n",
      "https://www4.stat.ncsu.edu/~boos/var.select/diabetes.html\n",
      "\n",
      "For more information see:\n",
      "Bradley Efron, Trevor Hastie, Iain Johnstone and Robert Tibshirani (2004) \"Least Angle Regression,\" Annals of Statistics (with discussion), 407-499.\n",
      "(https://web.stanford.edu/~hastie/Papers/LARS/LeastAngle_2002.pdf)\n"
     ]
    }
   ],
   "source": [
    "print(diabetics.DESCR)"
   ]
  },
  {
   "cell_type": "code",
   "execution_count": 6,
   "id": "1cb88bf0",
   "metadata": {},
   "outputs": [],
   "source": [
    "# Data pattern"
   ]
  },
  {
   "cell_type": "code",
   "execution_count": 7,
   "id": "4dde6a00",
   "metadata": {},
   "outputs": [
    {
     "name": "stdout",
     "output_type": "stream",
     "text": [
      "Data shape (442, 10)\n"
     ]
    }
   ],
   "source": [
    "print('Data shape', diabetics.data.shape)"
   ]
  },
  {
   "cell_type": "code",
   "execution_count": 8,
   "id": "f80abf0d",
   "metadata": {},
   "outputs": [
    {
     "name": "stdout",
     "output_type": "stream",
     "text": [
      "Target shape (442,)\n"
     ]
    }
   ],
   "source": [
    "print('Target shape', diabetics.target.shape)"
   ]
  },
  {
   "cell_type": "code",
   "execution_count": 9,
   "id": "a28ea145",
   "metadata": {},
   "outputs": [],
   "source": [
    "# Attributes"
   ]
  },
  {
   "cell_type": "code",
   "execution_count": 10,
   "id": "cf912a29",
   "metadata": {},
   "outputs": [
    {
     "name": "stdout",
     "output_type": "stream",
     "text": [
      "['age', 'sex', 'bmi', 'bp', 's1', 's2', 's3', 's4', 's5', 's6']\n"
     ]
    }
   ],
   "source": [
    "print(diabetics.feature_names)\n"
   ]
  },
  {
   "cell_type": "code",
   "execution_count": 11,
   "id": "dcb6619c",
   "metadata": {},
   "outputs": [],
   "source": [
    "# Preprocessing "
   ]
  },
  {
   "cell_type": "code",
   "execution_count": 12,
   "id": "1fb5684f",
   "metadata": {},
   "outputs": [],
   "source": [
    "import pandas as pd"
   ]
  },
  {
   "cell_type": "code",
   "execution_count": null,
   "id": "48feaa6b",
   "metadata": {},
   "outputs": [],
   "source": [
    "# Building data frame"
   ]
  },
  {
   "cell_type": "code",
   "execution_count": 13,
   "id": "c8bbe795",
   "metadata": {},
   "outputs": [
    {
     "name": "stdout",
     "output_type": "stream",
     "text": [
      "        age       sex       bmi        bp        s1        s2        s3  \\\n",
      "0  0.038076  0.050680  0.061696  0.021872 -0.044223 -0.034821 -0.043401   \n",
      "1 -0.001882 -0.044642 -0.051474 -0.026328 -0.008449 -0.019163  0.074412   \n",
      "2  0.085299  0.050680  0.044451 -0.005671 -0.045599 -0.034194 -0.032356   \n",
      "3 -0.089063 -0.044642 -0.011595 -0.036656  0.012191  0.024991 -0.036038   \n",
      "4  0.005383 -0.044642 -0.036385  0.021872  0.003935  0.015596  0.008142   \n",
      "\n",
      "         s4        s5        s6  \n",
      "0 -0.002592  0.019908 -0.017646  \n",
      "1 -0.039493 -0.068330 -0.092204  \n",
      "2 -0.002592  0.002864 -0.025930  \n",
      "3  0.034309  0.022692 -0.009362  \n",
      "4 -0.002592 -0.031991 -0.046641  \n"
     ]
    }
   ],
   "source": [
    "DF= pd.DataFrame(diabetics.data, columns = diabetics.feature_names)\n",
    "print(DF.head())"
   ]
  },
  {
   "cell_type": "code",
   "execution_count": null,
   "id": "7f9b5081",
   "metadata": {},
   "outputs": [],
   "source": []
  },
  {
   "cell_type": "code",
   "execution_count": null,
   "id": "dee3a9af",
   "metadata": {},
   "outputs": [],
   "source": [
    "DF['db'] = diabetics.target"
   ]
  },
  {
   "cell_type": "code",
   "execution_count": null,
   "id": "9ee377f4",
   "metadata": {},
   "outputs": [],
   "source": [
    "pd.set_option('precision' ,4)\n",
    "pd.set_option('max_columns' ,11)\n",
    "pd.set_option('display.width' ,None)"
   ]
  },
  {
   "cell_type": "code",
   "execution_count": 44,
   "id": "75fb2673",
   "metadata": {},
   "outputs": [
    {
     "data": {
      "text/html": [
       "<div>\n",
       "<style scoped>\n",
       "    .dataframe tbody tr th:only-of-type {\n",
       "        vertical-align: middle;\n",
       "    }\n",
       "\n",
       "    .dataframe tbody tr th {\n",
       "        vertical-align: top;\n",
       "    }\n",
       "\n",
       "    .dataframe thead th {\n",
       "        text-align: right;\n",
       "    }\n",
       "</style>\n",
       "<table border=\"1\" class=\"dataframe\">\n",
       "  <thead>\n",
       "    <tr style=\"text-align: right;\">\n",
       "      <th></th>\n",
       "      <th>age</th>\n",
       "      <th>sex</th>\n",
       "      <th>bmi</th>\n",
       "      <th>bp</th>\n",
       "      <th>s1</th>\n",
       "      <th>s2</th>\n",
       "      <th>s3</th>\n",
       "      <th>s4</th>\n",
       "      <th>s5</th>\n",
       "      <th>s6</th>\n",
       "      <th>db</th>\n",
       "    </tr>\n",
       "  </thead>\n",
       "  <tbody>\n",
       "    <tr>\n",
       "      <th>0</th>\n",
       "      <td>0.0381</td>\n",
       "      <td>0.0507</td>\n",
       "      <td>0.0617</td>\n",
       "      <td>0.0219</td>\n",
       "      <td>-0.0442</td>\n",
       "      <td>-0.0348</td>\n",
       "      <td>-0.0434</td>\n",
       "      <td>-0.0026</td>\n",
       "      <td>0.0199</td>\n",
       "      <td>-0.0176</td>\n",
       "      <td>151.0</td>\n",
       "    </tr>\n",
       "    <tr>\n",
       "      <th>1</th>\n",
       "      <td>-0.0019</td>\n",
       "      <td>-0.0446</td>\n",
       "      <td>-0.0515</td>\n",
       "      <td>-0.0263</td>\n",
       "      <td>-0.0084</td>\n",
       "      <td>-0.0192</td>\n",
       "      <td>0.0744</td>\n",
       "      <td>-0.0395</td>\n",
       "      <td>-0.0683</td>\n",
       "      <td>-0.0922</td>\n",
       "      <td>75.0</td>\n",
       "    </tr>\n",
       "    <tr>\n",
       "      <th>2</th>\n",
       "      <td>0.0853</td>\n",
       "      <td>0.0507</td>\n",
       "      <td>0.0445</td>\n",
       "      <td>-0.0057</td>\n",
       "      <td>-0.0456</td>\n",
       "      <td>-0.0342</td>\n",
       "      <td>-0.0324</td>\n",
       "      <td>-0.0026</td>\n",
       "      <td>0.0029</td>\n",
       "      <td>-0.0259</td>\n",
       "      <td>141.0</td>\n",
       "    </tr>\n",
       "    <tr>\n",
       "      <th>3</th>\n",
       "      <td>-0.0891</td>\n",
       "      <td>-0.0446</td>\n",
       "      <td>-0.0116</td>\n",
       "      <td>-0.0367</td>\n",
       "      <td>0.0122</td>\n",
       "      <td>0.0250</td>\n",
       "      <td>-0.0360</td>\n",
       "      <td>0.0343</td>\n",
       "      <td>0.0227</td>\n",
       "      <td>-0.0094</td>\n",
       "      <td>206.0</td>\n",
       "    </tr>\n",
       "    <tr>\n",
       "      <th>4</th>\n",
       "      <td>0.0054</td>\n",
       "      <td>-0.0446</td>\n",
       "      <td>-0.0364</td>\n",
       "      <td>0.0219</td>\n",
       "      <td>0.0039</td>\n",
       "      <td>0.0156</td>\n",
       "      <td>0.0081</td>\n",
       "      <td>-0.0026</td>\n",
       "      <td>-0.0320</td>\n",
       "      <td>-0.0466</td>\n",
       "      <td>135.0</td>\n",
       "    </tr>\n",
       "    <tr>\n",
       "      <th>...</th>\n",
       "      <td>...</td>\n",
       "      <td>...</td>\n",
       "      <td>...</td>\n",
       "      <td>...</td>\n",
       "      <td>...</td>\n",
       "      <td>...</td>\n",
       "      <td>...</td>\n",
       "      <td>...</td>\n",
       "      <td>...</td>\n",
       "      <td>...</td>\n",
       "      <td>...</td>\n",
       "    </tr>\n",
       "    <tr>\n",
       "      <th>437</th>\n",
       "      <td>0.0417</td>\n",
       "      <td>0.0507</td>\n",
       "      <td>0.0197</td>\n",
       "      <td>0.0597</td>\n",
       "      <td>-0.0057</td>\n",
       "      <td>-0.0026</td>\n",
       "      <td>-0.0287</td>\n",
       "      <td>-0.0026</td>\n",
       "      <td>0.0312</td>\n",
       "      <td>0.0072</td>\n",
       "      <td>178.0</td>\n",
       "    </tr>\n",
       "    <tr>\n",
       "      <th>438</th>\n",
       "      <td>-0.0055</td>\n",
       "      <td>0.0507</td>\n",
       "      <td>-0.0159</td>\n",
       "      <td>-0.0676</td>\n",
       "      <td>0.0493</td>\n",
       "      <td>0.0792</td>\n",
       "      <td>-0.0287</td>\n",
       "      <td>0.0343</td>\n",
       "      <td>-0.0181</td>\n",
       "      <td>0.0445</td>\n",
       "      <td>104.0</td>\n",
       "    </tr>\n",
       "    <tr>\n",
       "      <th>439</th>\n",
       "      <td>0.0417</td>\n",
       "      <td>0.0507</td>\n",
       "      <td>-0.0159</td>\n",
       "      <td>0.0173</td>\n",
       "      <td>-0.0373</td>\n",
       "      <td>-0.0138</td>\n",
       "      <td>-0.0250</td>\n",
       "      <td>-0.0111</td>\n",
       "      <td>-0.0469</td>\n",
       "      <td>0.0155</td>\n",
       "      <td>132.0</td>\n",
       "    </tr>\n",
       "    <tr>\n",
       "      <th>440</th>\n",
       "      <td>-0.0455</td>\n",
       "      <td>-0.0446</td>\n",
       "      <td>0.0391</td>\n",
       "      <td>0.0012</td>\n",
       "      <td>0.0163</td>\n",
       "      <td>0.0153</td>\n",
       "      <td>-0.0287</td>\n",
       "      <td>0.0266</td>\n",
       "      <td>0.0445</td>\n",
       "      <td>-0.0259</td>\n",
       "      <td>220.0</td>\n",
       "    </tr>\n",
       "    <tr>\n",
       "      <th>441</th>\n",
       "      <td>-0.0455</td>\n",
       "      <td>-0.0446</td>\n",
       "      <td>-0.0730</td>\n",
       "      <td>-0.0814</td>\n",
       "      <td>0.0837</td>\n",
       "      <td>0.0278</td>\n",
       "      <td>0.1738</td>\n",
       "      <td>-0.0395</td>\n",
       "      <td>-0.0042</td>\n",
       "      <td>0.0031</td>\n",
       "      <td>57.0</td>\n",
       "    </tr>\n",
       "  </tbody>\n",
       "</table>\n",
       "<p>442 rows × 11 columns</p>\n",
       "</div>"
      ],
      "text/plain": [
       "        age     sex     bmi      bp      s1      s2      s3      s4      s5  \\\n",
       "0    0.0381  0.0507  0.0617  0.0219 -0.0442 -0.0348 -0.0434 -0.0026  0.0199   \n",
       "1   -0.0019 -0.0446 -0.0515 -0.0263 -0.0084 -0.0192  0.0744 -0.0395 -0.0683   \n",
       "2    0.0853  0.0507  0.0445 -0.0057 -0.0456 -0.0342 -0.0324 -0.0026  0.0029   \n",
       "3   -0.0891 -0.0446 -0.0116 -0.0367  0.0122  0.0250 -0.0360  0.0343  0.0227   \n",
       "4    0.0054 -0.0446 -0.0364  0.0219  0.0039  0.0156  0.0081 -0.0026 -0.0320   \n",
       "..      ...     ...     ...     ...     ...     ...     ...     ...     ...   \n",
       "437  0.0417  0.0507  0.0197  0.0597 -0.0057 -0.0026 -0.0287 -0.0026  0.0312   \n",
       "438 -0.0055  0.0507 -0.0159 -0.0676  0.0493  0.0792 -0.0287  0.0343 -0.0181   \n",
       "439  0.0417  0.0507 -0.0159  0.0173 -0.0373 -0.0138 -0.0250 -0.0111 -0.0469   \n",
       "440 -0.0455 -0.0446  0.0391  0.0012  0.0163  0.0153 -0.0287  0.0266  0.0445   \n",
       "441 -0.0455 -0.0446 -0.0730 -0.0814  0.0837  0.0278  0.1738 -0.0395 -0.0042   \n",
       "\n",
       "         s6     db  \n",
       "0   -0.0176  151.0  \n",
       "1   -0.0922   75.0  \n",
       "2   -0.0259  141.0  \n",
       "3   -0.0094  206.0  \n",
       "4   -0.0466  135.0  \n",
       "..      ...    ...  \n",
       "437  0.0072  178.0  \n",
       "438  0.0445  104.0  \n",
       "439  0.0155  132.0  \n",
       "440 -0.0259  220.0  \n",
       "441  0.0031   57.0  \n",
       "\n",
       "[442 rows x 11 columns]"
      ]
     },
     "execution_count": 44,
     "metadata": {},
     "output_type": "execute_result"
    }
   ],
   "source": [
    "DF"
   ]
  },
  {
   "cell_type": "code",
   "execution_count": 45,
   "id": "1d064956",
   "metadata": {},
   "outputs": [],
   "source": [
    "# importing the necessary library"
   ]
  },
  {
   "cell_type": "code",
   "execution_count": 46,
   "id": "4b88a018",
   "metadata": {},
   "outputs": [],
   "source": [
    "import numpy as np\n",
    "import seaborn as sns\n",
    "from matplotlib import pyplot as plt \n",
    "from sklearn import metrics\n",
    "from sklearn.linear_model import Lasso, Ridge\n",
    "from sklearn.model_selection import cross_val_score\n",
    "from sklearn.model_selection import KFold"
   ]
  },
  {
   "cell_type": "code",
   "execution_count": 47,
   "id": "08561005",
   "metadata": {},
   "outputs": [],
   "source": [
    "# Visualize using heatmap"
   ]
  },
  {
   "cell_type": "code",
   "execution_count": 48,
   "id": "d3a4f5f2",
   "metadata": {},
   "outputs": [
    {
     "data": {
      "image/png": "[encoded data removed]",
      "text/plain": [
       "<Figure size 864x720 with 2 Axes>"
      ]
     },
     "metadata": {
      "needs_background": "light"
     },
     "output_type": "display_data"
    }
   ],
   "source": [
    "plt.figure(figsize=(12,10))\n",
    "cor= DF.corr()\n",
    "sns.heatmap(cor, annot=True, cmap=plt.cm.Reds)\n",
    "plt.show()"
   ]
  },
  {
   "cell_type": "code",
   "execution_count": 49,
   "id": "0f1be5e0",
   "metadata": {},
   "outputs": [],
   "source": [
    "# Correlation amonge features"
   ]
  },
  {
   "cell_type": "code",
   "execution_count": 50,
   "id": "b1e98387",
   "metadata": {},
   "outputs": [
    {
     "name": "stdout",
     "output_type": "stream",
     "text": [
      "age    0.1879\n",
      "sex    0.0431\n",
      "bmi    0.5865\n",
      "bp     0.4415\n",
      "s1     0.2120\n",
      "s2     0.1741\n",
      "s3     0.3948\n",
      "s4     0.4305\n",
      "s5     0.5659\n",
      "s6     0.3825\n",
      "db     1.0000\n",
      "Name: db, dtype: float64\n"
     ]
    }
   ],
   "source": [
    "cor_target = abs(cor['db'])\n",
    "print(cor_target)"
   ]
  },
  {
   "cell_type": "code",
   "execution_count": 51,
   "id": "9c86b0f4",
   "metadata": {},
   "outputs": [],
   "source": [
    "# Selection of best features ( Ans of 3 A)"
   ]
  },
  {
   "cell_type": "code",
   "execution_count": 76,
   "id": "ac068ad1",
   "metadata": {},
   "outputs": [
    {
     "name": "stdout",
     "output_type": "stream",
     "text": [
      "selected_features are:  bmi    0.5865\n",
      "s5     0.5659\n",
      "db     1.0000\n",
      "Name: db, dtype: float64\n"
     ]
    }
   ],
   "source": [
    "selected_features= cor_target[cor_target > 0.5]\n",
    "print('selected_features are: ', selected_features)"
   ]
  },
  {
   "cell_type": "code",
   "execution_count": 53,
   "id": "43a6abe8",
   "metadata": {},
   "outputs": [],
   "source": [
    "# Correlation among the best features"
   ]
  },
  {
   "cell_type": "code",
   "execution_count": 77,
   "id": "3f5dff8f",
   "metadata": {},
   "outputs": [
    {
     "name": "stdout",
     "output_type": "stream",
     "text": [
      "        bmi      s5\n",
      "bmi  1.0000  0.4462\n",
      "s5   0.4462  1.0000\n"
     ]
    }
   ],
   "source": [
    "print(DF[['bmi', 's5']].corr())\n"
   ]
  },
  {
   "cell_type": "code",
   "execution_count": 78,
   "id": "7a9ab7cc",
   "metadata": {},
   "outputs": [],
   "source": [
    "# Data frame using the best features"
   ]
  },
  {
   "cell_type": "code",
   "execution_count": 111,
   "id": "cc490de2",
   "metadata": {},
   "outputs": [
    {
     "data": {
      "text/html": [
       "<div>\n",
       "<style scoped>\n",
       "    .dataframe tbody tr th:only-of-type {\n",
       "        vertical-align: middle;\n",
       "    }\n",
       "\n",
       "    .dataframe tbody tr th {\n",
       "        vertical-align: top;\n",
       "    }\n",
       "\n",
       "    .dataframe thead th {\n",
       "        text-align: right;\n",
       "    }\n",
       "</style>\n",
       "<table border=\"1\" class=\"dataframe\">\n",
       "  <thead>\n",
       "    <tr style=\"text-align: right;\">\n",
       "      <th></th>\n",
       "      <th>bmi</th>\n",
       "      <th>s5</th>\n",
       "      <th>db</th>\n",
       "    </tr>\n",
       "  </thead>\n",
       "  <tbody>\n",
       "    <tr>\n",
       "      <th>0</th>\n",
       "      <td>0.0617</td>\n",
       "      <td>0.0199</td>\n",
       "      <td>151.0</td>\n",
       "    </tr>\n",
       "    <tr>\n",
       "      <th>1</th>\n",
       "      <td>-0.0515</td>\n",
       "      <td>-0.0683</td>\n",
       "      <td>75.0</td>\n",
       "    </tr>\n",
       "    <tr>\n",
       "      <th>2</th>\n",
       "      <td>0.0445</td>\n",
       "      <td>0.0029</td>\n",
       "      <td>141.0</td>\n",
       "    </tr>\n",
       "    <tr>\n",
       "      <th>3</th>\n",
       "      <td>-0.0116</td>\n",
       "      <td>0.0227</td>\n",
       "      <td>206.0</td>\n",
       "    </tr>\n",
       "    <tr>\n",
       "      <th>4</th>\n",
       "      <td>-0.0364</td>\n",
       "      <td>-0.0320</td>\n",
       "      <td>135.0</td>\n",
       "    </tr>\n",
       "    <tr>\n",
       "      <th>...</th>\n",
       "      <td>...</td>\n",
       "      <td>...</td>\n",
       "      <td>...</td>\n",
       "    </tr>\n",
       "    <tr>\n",
       "      <th>437</th>\n",
       "      <td>0.0197</td>\n",
       "      <td>0.0312</td>\n",
       "      <td>178.0</td>\n",
       "    </tr>\n",
       "    <tr>\n",
       "      <th>438</th>\n",
       "      <td>-0.0159</td>\n",
       "      <td>-0.0181</td>\n",
       "      <td>104.0</td>\n",
       "    </tr>\n",
       "    <tr>\n",
       "      <th>439</th>\n",
       "      <td>-0.0159</td>\n",
       "      <td>-0.0469</td>\n",
       "      <td>132.0</td>\n",
       "    </tr>\n",
       "    <tr>\n",
       "      <th>440</th>\n",
       "      <td>0.0391</td>\n",
       "      <td>0.0445</td>\n",
       "      <td>220.0</td>\n",
       "    </tr>\n",
       "    <tr>\n",
       "      <th>441</th>\n",
       "      <td>-0.0730</td>\n",
       "      <td>-0.0042</td>\n",
       "      <td>57.0</td>\n",
       "    </tr>\n",
       "  </tbody>\n",
       "</table>\n",
       "<p>442 rows × 3 columns</p>\n",
       "</div>"
      ],
      "text/plain": [
       "        bmi      s5     db\n",
       "0    0.0617  0.0199  151.0\n",
       "1   -0.0515 -0.0683   75.0\n",
       "2    0.0445  0.0029  141.0\n",
       "3   -0.0116  0.0227  206.0\n",
       "4   -0.0364 -0.0320  135.0\n",
       "..      ...     ...    ...\n",
       "437  0.0197  0.0312  178.0\n",
       "438 -0.0159 -0.0181  104.0\n",
       "439 -0.0159 -0.0469  132.0\n",
       "440  0.0391  0.0445  220.0\n",
       "441 -0.0730 -0.0042   57.0\n",
       "\n",
       "[442 rows x 3 columns]"
      ]
     },
     "execution_count": 111,
     "metadata": {},
     "output_type": "execute_result"
    }
   ],
   "source": [
    "selected_features=DF.loc[:,['bmi','s5', 'db']]\n",
    "selected_features"
   ]
  },
  {
   "cell_type": "code",
   "execution_count": 127,
   "id": "f6f9a37c",
   "metadata": {},
   "outputs": [],
   "source": [
    "x=selected_features.drop(labels='db',axis=1)"
   ]
  },
  {
   "cell_type": "code",
   "execution_count": 114,
   "id": "3e062a40",
   "metadata": {},
   "outputs": [
    {
     "data": {
      "text/html": [
       "<div>\n",
       "<style scoped>\n",
       "    .dataframe tbody tr th:only-of-type {\n",
       "        vertical-align: middle;\n",
       "    }\n",
       "\n",
       "    .dataframe tbody tr th {\n",
       "        vertical-align: top;\n",
       "    }\n",
       "\n",
       "    .dataframe thead th {\n",
       "        text-align: right;\n",
       "    }\n",
       "</style>\n",
       "<table border=\"1\" class=\"dataframe\">\n",
       "  <thead>\n",
       "    <tr style=\"text-align: right;\">\n",
       "      <th></th>\n",
       "      <th>bmi</th>\n",
       "      <th>s5</th>\n",
       "    </tr>\n",
       "  </thead>\n",
       "  <tbody>\n",
       "    <tr>\n",
       "      <th>0</th>\n",
       "      <td>0.0617</td>\n",
       "      <td>0.0199</td>\n",
       "    </tr>\n",
       "    <tr>\n",
       "      <th>1</th>\n",
       "      <td>-0.0515</td>\n",
       "      <td>-0.0683</td>\n",
       "    </tr>\n",
       "    <tr>\n",
       "      <th>2</th>\n",
       "      <td>0.0445</td>\n",
       "      <td>0.0029</td>\n",
       "    </tr>\n",
       "    <tr>\n",
       "      <th>3</th>\n",
       "      <td>-0.0116</td>\n",
       "      <td>0.0227</td>\n",
       "    </tr>\n",
       "    <tr>\n",
       "      <th>4</th>\n",
       "      <td>-0.0364</td>\n",
       "      <td>-0.0320</td>\n",
       "    </tr>\n",
       "    <tr>\n",
       "      <th>...</th>\n",
       "      <td>...</td>\n",
       "      <td>...</td>\n",
       "    </tr>\n",
       "    <tr>\n",
       "      <th>437</th>\n",
       "      <td>0.0197</td>\n",
       "      <td>0.0312</td>\n",
       "    </tr>\n",
       "    <tr>\n",
       "      <th>438</th>\n",
       "      <td>-0.0159</td>\n",
       "      <td>-0.0181</td>\n",
       "    </tr>\n",
       "    <tr>\n",
       "      <th>439</th>\n",
       "      <td>-0.0159</td>\n",
       "      <td>-0.0469</td>\n",
       "    </tr>\n",
       "    <tr>\n",
       "      <th>440</th>\n",
       "      <td>0.0391</td>\n",
       "      <td>0.0445</td>\n",
       "    </tr>\n",
       "    <tr>\n",
       "      <th>441</th>\n",
       "      <td>-0.0730</td>\n",
       "      <td>-0.0042</td>\n",
       "    </tr>\n",
       "  </tbody>\n",
       "</table>\n",
       "<p>442 rows × 2 columns</p>\n",
       "</div>"
      ],
      "text/plain": [
       "        bmi      s5\n",
       "0    0.0617  0.0199\n",
       "1   -0.0515 -0.0683\n",
       "2    0.0445  0.0029\n",
       "3   -0.0116  0.0227\n",
       "4   -0.0364 -0.0320\n",
       "..      ...     ...\n",
       "437  0.0197  0.0312\n",
       "438 -0.0159 -0.0181\n",
       "439 -0.0159 -0.0469\n",
       "440  0.0391  0.0445\n",
       "441 -0.0730 -0.0042\n",
       "\n",
       "[442 rows x 2 columns]"
      ]
     },
     "execution_count": 114,
     "metadata": {},
     "output_type": "execute_result"
    }
   ],
   "source": [
    "x"
   ]
  },
  {
   "cell_type": "code",
   "execution_count": 115,
   "id": "1fd8b85c",
   "metadata": {},
   "outputs": [
    {
     "data": {
      "text/plain": [
       "0      151.0\n",
       "1       75.0\n",
       "2      141.0\n",
       "3      206.0\n",
       "4      135.0\n",
       "       ...  \n",
       "437    178.0\n",
       "438    104.0\n",
       "439    132.0\n",
       "440    220.0\n",
       "441     57.0\n",
       "Name: db, Length: 442, dtype: float64"
      ]
     },
     "execution_count": 115,
     "metadata": {},
     "output_type": "execute_result"
    }
   ],
   "source": [
    "y=selected_features['db']\n",
    "y"
   ]
  },
  {
   "cell_type": "code",
   "execution_count": null,
   "id": "eba860b2",
   "metadata": {},
   "outputs": [],
   "source": [
    "# Split of training and testing data"
   ]
  },
  {
   "cell_type": "code",
   "execution_count": 116,
   "id": "7d5e9685",
   "metadata": {},
   "outputs": [
    {
     "name": "stdout",
     "output_type": "stream",
     "text": [
      "x_train:  (331, 2)\n",
      "y_train:  (331,)\n"
     ]
    }
   ],
   "source": [
    "from sklearn.model_selection import train_test_split\n",
    "x_train, x_test, y_train, y_test= train_test_split(x, y, random_state=11)\n",
    "print('x_train: ', x_train.shape)\n",
    "print('y_train: ', y_train.shape)"
   ]
  },
  {
   "cell_type": "code",
   "execution_count": null,
   "id": "ad353bf4",
   "metadata": {},
   "outputs": [],
   "source": [
    "# Linear regrssion model"
   ]
  },
  {
   "cell_type": "code",
   "execution_count": 117,
   "id": "992cc7e6",
   "metadata": {},
   "outputs": [
    {
     "name": "stdout",
     "output_type": "stream",
     "text": [
      "{'copy_X': True, 'fit_intercept': True, 'n_jobs': None, 'normalize': False, 'positive': False}\n"
     ]
    }
   ],
   "source": [
    "from sklearn.linear_model import LinearRegression\n",
    "LR= LinearRegression()\n",
    "LR.fit(X=x_train, y=y_train)\n",
    "print(LR.get_params())"
   ]
  },
  {
   "cell_type": "code",
   "execution_count": 118,
   "id": "6b0b8a0e",
   "metadata": {},
   "outputs": [
    {
     "name": "stdout",
     "output_type": "stream",
     "text": [
      "Linear regression intercept =  151.61957072227057\n"
     ]
    }
   ],
   "source": [
    "print('Linear regression intercept = ', LR.intercept_)"
   ]
  },
  {
   "cell_type": "code",
   "execution_count": 121,
   "id": "f7a3603f",
   "metadata": {},
   "outputs": [
    {
     "name": "stdout",
     "output_type": "stream",
     "text": [
      "Linear regression coef:\n",
      "\n",
      "       bmi: 648.1012220709013\n",
      "        s5: 570.8999860989137\n"
     ]
    }
   ],
   "source": [
    "print('Linear regression coef:\\n')\n",
    "for i, name in enumerate(selected_features.columns[0:2]):\n",
    "      print(f'{name:>10}: {LR.coef_[i]}')"
   ]
  },
  {
   "cell_type": "code",
   "execution_count": null,
   "id": "1036bb34",
   "metadata": {},
   "outputs": [],
   "source": [
    "# R2 Score"
   ]
  },
  {
   "cell_type": "code",
   "execution_count": 134,
   "id": "bb3509d7",
   "metadata": {},
   "outputs": [
    {
     "name": "stdout",
     "output_type": "stream",
     "text": [
      "R2 score: -0.39352004942529617\n"
     ]
    }
   ],
   "source": [
    "from sklearn import metrics\n",
    "print('R2 score:', metrics.r2_score(predicted, expected))"
   ]
  },
  {
   "cell_type": "code",
   "execution_count": 131,
   "id": "3d1ec511",
   "metadata": {},
   "outputs": [
    {
     "name": "stdout",
     "output_type": "stream",
     "text": [
      "Training set score:  0.4359169133990315\n",
      "Testing set score:  0.5050385136203379\n"
     ]
    }
   ],
   "source": [
    "print('Training set score: ', LR.score(x_train, y_train))\n",
    "print('Testing set score: ', LR.score(x_test, y_test))"
   ]
  },
  {
   "cell_type": "code",
   "execution_count": 132,
   "id": "2c0f3c08",
   "metadata": {},
   "outputs": [],
   "source": [
    "# Cross validation [c]\n",
    "# Ridge and Lasso regression [D]"
   ]
  },
  {
   "cell_type": "code",
   "execution_count": 135,
   "id": "fcfbdd31",
   "metadata": {},
   "outputs": [],
   "source": [
    "from sklearn.linear_model import Lasso, Ridge\n",
    "estimators = {'Linear Regression': LR,\n",
    "               'Lasso': Lasso(),\n",
    "               'Ridge': Ridge()\n",
    "              }"
   ]
  },
  {
   "cell_type": "code",
   "execution_count": 139,
   "id": "33e72115",
   "metadata": {},
   "outputs": [
    {
     "name": "stdout",
     "output_type": "stream",
     "text": [
      "Linear Regression: Mean squared error=-3019.535\n",
      "            Lasso: Mean squared error=-3864.197\n",
      "            Ridge: Mean squared error=-3374.444\n"
     ]
    }
   ],
   "source": [
    "from sklearn.model_selection import cross_val_score\n",
    "for estimator_name, estimator_object in estimators.items():\n",
    "    fold = KFold(n_splits=10, shuffle=True, random_state=11)\n",
    "    scores = cross_val_score(estimator = estimator_object, X=diabetics.data, y=diabetics.target, cv=fold, scoring='neg_mean_squared_error')\n",
    "    print(f'{estimator_name:>17}: '  + f'Mean squared error={scores.mean():.3f}')"
   ]
  },
  {
   "cell_type": "code",
   "execution_count": null,
   "id": "6cb408a0",
   "metadata": {},
   "outputs": [],
   "source": []
  },
  {
   "cell_type": "code",
   "execution_count": null,
   "id": "aa5a4872",
   "metadata": {},
   "outputs": [],
   "source": []
  },
  {
   "cell_type": "code",
   "execution_count": null,
   "id": "ad5e8405",
   "metadata": {},
   "outputs": [],
   "source": []
  }
 ],
 "metadata": {
  "kernelspec": {
   "display_name": "Python 3 (ipykernel)",
   "language": "python",
   "name": "python3"
  },
  "language_info": {
   "codemirror_mode": {
    "name": "ipython",
    "version": 3
   },
   "file_extension": ".py",
   "mimetype": "text/x-python",
   "name": "python",
   "nbconvert_exporter": "python",
   "pygments_lexer": "ipython3",
   "version": "3.9.7"
  }
 },
 "nbformat": 4,
 "nbformat_minor": 5
}
