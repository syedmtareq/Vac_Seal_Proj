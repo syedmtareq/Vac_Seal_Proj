{
 "cells": [
  {
   "cell_type": "code",
   "execution_count": 1,
   "id": "d1ccff87",
   "metadata": {},
   "outputs": [],
   "source": [
    "import matplotlib.pyplot as plt\n",
    "import pandas as pd\n",
    "import numpy as np\n",
    "from scipy.interpolate import interp1d\n"
   ]
  },
  {
   "cell_type": "code",
   "execution_count": 3,
   "id": "85fc242e",
   "metadata": {},
   "outputs": [
    {
     "ename": "NameError",
     "evalue": "name 'np' is not defined",
     "output_type": "error",
     "traceback": [
      "\u001b[1;31m---------------------------------------------------------------------------\u001b[0m",
      "\u001b[1;31mNameError\u001b[0m                                 Traceback (most recent call last)",
      "\u001b[1;32m~\\AppData\\Local\\Temp/ipykernel_5252/548935401.py\u001b[0m in \u001b[0;36m<module>\u001b[1;34m\u001b[0m\n\u001b[0;32m      5\u001b[0m \u001b[0mt\u001b[0m \u001b[1;33m=\u001b[0m \u001b[1;36m2.14\u001b[0m\u001b[1;33m\u001b[0m\u001b[1;33m\u001b[0m\u001b[0m\n\u001b[0;32m      6\u001b[0m \u001b[1;33m\u001b[0m\u001b[0m\n\u001b[1;32m----> 7\u001b[1;33m \u001b[0mskip\u001b[0m \u001b[1;33m=\u001b[0m \u001b[0mnp\u001b[0m\u001b[1;33m.\u001b[0m\u001b[0marange\u001b[0m\u001b[1;33m(\u001b[0m\u001b[1;36m0\u001b[0m\u001b[1;33m,\u001b[0m\u001b[1;36m1\u001b[0m\u001b[1;33m)\u001b[0m\u001b[1;33m\u001b[0m\u001b[1;33m\u001b[0m\u001b[0m\n\u001b[0m\u001b[0;32m      8\u001b[0m \u001b[0mtime1\u001b[0m \u001b[1;33m=\u001b[0m \u001b[0mnp\u001b[0m\u001b[1;33m.\u001b[0m\u001b[0marange\u001b[0m\u001b[1;33m(\u001b[0m\u001b[1;36m0\u001b[0m\u001b[1;33m,\u001b[0m\u001b[1;36m1\u001b[0m\u001b[1;33m)\u001b[0m\u001b[1;33m\u001b[0m\u001b[1;33m\u001b[0m\u001b[0m\n",
      "\u001b[1;31mNameError\u001b[0m: name 'np' is not defined"
     ]
    }
   ],
   "source": [
    "r2 = 7.132\n",
    "e = .05\n",
    "v = .2\n",
    "eprime = e\n",
    "t = 2.14\n",
    "\n",
    "skip = np.arange(0,1)\n",
    "time1 = np.arange(0,1) \n"
   ]
  },
  {
   "cell_type": "code",
   "execution_count": null,
   "id": "1e748a93",
   "metadata": {},
   "outputs": [],
   "source": [
    "headers = ['time', 'extension', 'load']\n",
    "\n",
    "df = pd.read_csv(r'D:\\Yang\\Vac_Seal_Proj\\StrengthAna\\vacsealproj_strengthrawdata\\A1_1__T_S10_ST_WithoutSeal.csv',names = headers, skiprows=1)\n",
    "df2 = pd.read_csv(r'D:\\Yang\\Vac_Seal_Proj\\StrengthAna\\vacsealproj_strengthrawdata\\A3_2__T_S10_ST_WithoutSeal.csv',names = headers, skiprows=skip)\n",
    "\n"
   ]
  },
  {
   "cell_type": "code",
   "execution_count": 2,
   "id": "518d1dcd",
   "metadata": {},
   "outputs": [
    {
     "ename": "NameError",
     "evalue": "name 'interp1d' is not defined",
     "output_type": "error",
     "traceback": [
      "\u001b[1;31m---------------------------------------------------------------------------\u001b[0m",
      "\u001b[1;31mNameError\u001b[0m                                 Traceback (most recent call last)",
      "\u001b[1;32m~\\AppData\\Local\\Temp/ipykernel_5252/3130994610.py\u001b[0m in \u001b[0;36m<module>\u001b[1;34m\u001b[0m\n\u001b[1;32m----> 1\u001b[1;33m \u001b[0md1\u001b[0m \u001b[1;33m=\u001b[0m \u001b[0minterp1d\u001b[0m\u001b[1;33m(\u001b[0m\u001b[0mdf\u001b[0m\u001b[1;33m[\u001b[0m\u001b[1;34m'time'\u001b[0m\u001b[1;33m]\u001b[0m\u001b[1;33m,\u001b[0m\u001b[0mdf\u001b[0m\u001b[1;33m[\u001b[0m\u001b[1;34m'extension'\u001b[0m\u001b[1;33m]\u001b[0m\u001b[1;33m,\u001b[0m \u001b[0mfill_value\u001b[0m \u001b[1;33m=\u001b[0m \u001b[1;34m'extrapolate'\u001b[0m\u001b[1;33m)\u001b[0m\u001b[1;33m\u001b[0m\u001b[1;33m\u001b[0m\u001b[0m\n\u001b[0m\u001b[0;32m      2\u001b[0m \u001b[0md\u001b[0m \u001b[1;33m=\u001b[0m \u001b[0md1\u001b[0m\u001b[1;33m(\u001b[0m\u001b[0mtime1\u001b[0m\u001b[1;33m)\u001b[0m\u001b[1;33m\u001b[0m\u001b[1;33m\u001b[0m\u001b[0m\n\u001b[0;32m      3\u001b[0m \u001b[0mf1\u001b[0m \u001b[1;33m=\u001b[0m \u001b[0minterp1d\u001b[0m\u001b[1;33m(\u001b[0m\u001b[0mdf\u001b[0m\u001b[1;33m[\u001b[0m\u001b[1;34m'time'\u001b[0m\u001b[1;33m]\u001b[0m\u001b[1;33m,\u001b[0m\u001b[0mdf\u001b[0m\u001b[1;33m[\u001b[0m\u001b[1;34m'load'\u001b[0m\u001b[1;33m]\u001b[0m\u001b[1;33m,\u001b[0m \u001b[0mfill_value\u001b[0m \u001b[1;33m=\u001b[0m \u001b[1;34m'extrapolate'\u001b[0m\u001b[1;33m)\u001b[0m\u001b[1;33m\u001b[0m\u001b[1;33m\u001b[0m\u001b[0m\n\u001b[0;32m      4\u001b[0m \u001b[0mP\u001b[0m \u001b[1;33m=\u001b[0m \u001b[0mf1\u001b[0m\u001b[1;33m(\u001b[0m\u001b[0mtime1\u001b[0m\u001b[1;33m)\u001b[0m\u001b[1;33m\u001b[0m\u001b[1;33m\u001b[0m\u001b[0m\n\u001b[0;32m      5\u001b[0m \u001b[1;33m\u001b[0m\u001b[0m\n",
      "\u001b[1;31mNameError\u001b[0m: name 'interp1d' is not defined"
     ]
    }
   ],
   "source": [
    "d1 = interp1d(df['time'],df['extension'], fill_value = 'extrapolate')\n",
    "d = d1(time1)\n",
    "f1 = interp1d(df['time'],df['load'], fill_value = 'extrapolate')\n",
    "P = f1(time1)\n",
    "\n",
    "M = (P/4/np.pi)*((1+v)*np.log(r2/2/eprime)+1)\n",
    "E = 1.4177*(10**(-6))*(.62**3.25)\n",
    "D = (E*(t**3))/(12*(1-(v**2)))\n",
    "\n",
    "stress = 6*M/(t**2)\n",
    "dmax = ((3+v)*P.max()*((r2/2**2)))/(16*np.pi*(1+v)*D)*1000\n",
    "\n",
    "strain_per = d/dmax*100\n",
    "\n",
    "\n",
    "plt.plot(strain_per, stress, '-', color = 'black', label='Not Sealed', lw=1)\n",
    "\n",
    "plt.legend(loc='best')\n",
    "plt.title('A1_1')\n",
    "plt.xlabel('% Strain')\n",
    "plt.ylabel('Flexural Stress')\n"
   ]
  },
  {
   "cell_type": "code",
   "execution_count": 5,
   "id": "63ec3d82",
   "metadata": {},
   "outputs": [
    {
     "data": {
      "image/png": "[encoded data removed]",
      "text/plain": [
       "<Figure size 432x288 with 1 Axes>"
      ]
     },
     "metadata": {
      "needs_background": "light"
     },
     "output_type": "display_data"
    }
   ],
   "source": [
    "d1 = interp1d(df2['time'],df2['extension'], fill_value = 'extrapolate')\n",
    "d = d1(time1)\n",
    "f1 = interp1d(df2['time'],df2['load'], fill_value = 'extrapolate')\n",
    "P = f1(time1)\n",
    "\n",
    "M = (P/4/np.pi)*((1+v)*np.log(r2/2/eprime)+1)\n",
    "E = 1.4177*(10**(-6))*(.62**3.25)\n",
    "D = (E*(t**3))/(12*(1-(v**2)))\n",
    "\n",
    "stress = 6*M/(t**2)\n",
    "dmax = ((3+v)*P.max()*((r2/2**2)))/(16*np.pi*(1+v)*D)*1000\n",
    "\n",
    "strain_per = d/dmax*100\n",
    "\n",
    "\n",
    "plt.plot(strain_per, stress, '-', color = 'black', label='Not Sealed', lw=1)\n",
    "plt.plot(strain_per, stress, '-', color = 'blue', label='Sealed 10s', lw=1)\n",
    "\n",
    "\n",
    "plt.legend(loc='best')\n",
    "plt.title('A1_1')\n",
    "plt.xlabel('% Strain')\n",
    "plt.ylabel('Flexural Stress')\n",
    "plt.show()"
   ]
  },
  {
   "cell_type": "code",
   "execution_count": null,
   "id": "56ddac2d",
   "metadata": {},
   "outputs": [],
   "source": []
  },
  {
   "cell_type": "code",
   "execution_count": null,
   "id": "1a1193be",
   "metadata": {},
   "outputs": [],
   "source": []
  },
  {
   "cell_type": "code",
   "execution_count": null,
   "id": "3be35060",
   "metadata": {},
   "outputs": [],
   "source": []
  },
  {
   "cell_type": "code",
   "execution_count": null,
   "id": "f0cdadfe",
   "metadata": {},
   "outputs": [],
   "source": []
  },
  {
   "cell_type": "code",
   "execution_count": null,
   "id": "e4a00063",
   "metadata": {},
   "outputs": [],
   "source": []
  }
 ],
 "metadata": {
  "kernelspec": {
   "display_name": "Python 3 (ipykernel)",
   "language": "python",
   "name": "python3"
  },
  "language_info": {
   "codemirror_mode": {
    "name": "ipython",
    "version": 3
   },
   "file_extension": ".py",
   "mimetype": "text/x-python",
   "name": "python",
   "nbconvert_exporter": "python",
   "pygments_lexer": "ipython3",
   "version": "3.9.7"
  }
 },
 "nbformat": 4,
 "nbformat_minor": 5
}
