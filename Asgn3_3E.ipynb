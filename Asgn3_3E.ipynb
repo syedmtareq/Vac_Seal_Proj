{
 "cells": [
  {
   "cell_type": "code",
   "execution_count": null,
   "id": "dacff4cc",
   "metadata": {},
   "outputs": [],
   "source": [
    "# Ques 3(F)"
   ]
  },
  {
   "cell_type": "code",
   "execution_count": 185,
   "id": "3b929363",
   "metadata": {},
   "outputs": [],
   "source": [
    "# Implementation of wrapper technique"
   ]
  },
  {
   "cell_type": "code",
   "execution_count": 186,
   "id": "4854215a",
   "metadata": {},
   "outputs": [],
   "source": [
    "from sklearn.datasets import load_diabetes"
   ]
  },
  {
   "cell_type": "code",
   "execution_count": 187,
   "id": "6cbed99f",
   "metadata": {},
   "outputs": [],
   "source": [
    "diabetics=load_diabetes()"
   ]
  },
  {
   "cell_type": "code",
   "execution_count": 203,
   "id": "4b247f73",
   "metadata": {},
   "outputs": [],
   "source": [
    "import pandas as pd"
   ]
  },
  {
   "cell_type": "code",
   "execution_count": 204,
   "id": "9efa0be7",
   "metadata": {},
   "outputs": [
    {
     "name": "stdout",
     "output_type": "stream",
     "text": [
      "      age     sex     bmi      bp      s1      s2      s3      s4      s5  \\\n",
      "0  0.0381  0.0507  0.0617  0.0219 -0.0442 -0.0348 -0.0434 -0.0026  0.0199   \n",
      "1 -0.0019 -0.0446 -0.0515 -0.0263 -0.0084 -0.0192  0.0744 -0.0395 -0.0683   \n",
      "2  0.0853  0.0507  0.0445 -0.0057 -0.0456 -0.0342 -0.0324 -0.0026  0.0029   \n",
      "3 -0.0891 -0.0446 -0.0116 -0.0367  0.0122  0.0250 -0.0360  0.0343  0.0227   \n",
      "4  0.0054 -0.0446 -0.0364  0.0219  0.0039  0.0156  0.0081 -0.0026 -0.0320   \n",
      "\n",
      "       s6  \n",
      "0 -0.0176  \n",
      "1 -0.0922  \n",
      "2 -0.0259  \n",
      "3 -0.0094  \n",
      "4 -0.0466  \n"
     ]
    }
   ],
   "source": [
    "DF= pd.DataFrame(diabetics.data, columns = diabetics.feature_names)\n",
    "print(DF.head())"
   ]
  },
  {
   "cell_type": "code",
   "execution_count": 205,
   "id": "a2c9687b",
   "metadata": {},
   "outputs": [],
   "source": [
    "DF['db'] = diabetics.target"
   ]
  },
  {
   "cell_type": "code",
   "execution_count": 206,
   "id": "779d011d",
   "metadata": {},
   "outputs": [],
   "source": [
    "pd.set_option('precision' ,4)\n",
    "pd.set_option('max_columns' ,11)\n",
    "pd.set_option('display.width' ,None)"
   ]
  },
  {
   "cell_type": "code",
   "execution_count": 192,
   "id": "0c0eb42d",
   "metadata": {},
   "outputs": [
    {
     "data": {
      "text/html": [
       "<div>\n",
       "<style scoped>\n",
       "    .dataframe tbody tr th:only-of-type {\n",
       "        vertical-align: middle;\n",
       "    }\n",
       "\n",
       "    .dataframe tbody tr th {\n",
       "        vertical-align: top;\n",
       "    }\n",
       "\n",
       "    .dataframe thead th {\n",
       "        text-align: right;\n",
       "    }\n",
       "</style>\n",
       "<table border=\"1\" class=\"dataframe\">\n",
       "  <thead>\n",
       "    <tr style=\"text-align: right;\">\n",
       "      <th></th>\n",
       "      <th>age</th>\n",
       "      <th>sex</th>\n",
       "      <th>bmi</th>\n",
       "      <th>bp</th>\n",
       "      <th>s1</th>\n",
       "      <th>s2</th>\n",
       "      <th>s3</th>\n",
       "      <th>s4</th>\n",
       "      <th>s5</th>\n",
       "      <th>s6</th>\n",
       "      <th>db</th>\n",
       "    </tr>\n",
       "  </thead>\n",
       "  <tbody>\n",
       "    <tr>\n",
       "      <th>0</th>\n",
       "      <td>0.0381</td>\n",
       "      <td>0.0507</td>\n",
       "      <td>0.0617</td>\n",
       "      <td>0.0219</td>\n",
       "      <td>-0.0442</td>\n",
       "      <td>-0.0348</td>\n",
       "      <td>-0.0434</td>\n",
       "      <td>-0.0026</td>\n",
       "      <td>0.0199</td>\n",
       "      <td>-0.0176</td>\n",
       "      <td>151.0</td>\n",
       "    </tr>\n",
       "    <tr>\n",
       "      <th>1</th>\n",
       "      <td>-0.0019</td>\n",
       "      <td>-0.0446</td>\n",
       "      <td>-0.0515</td>\n",
       "      <td>-0.0263</td>\n",
       "      <td>-0.0084</td>\n",
       "      <td>-0.0192</td>\n",
       "      <td>0.0744</td>\n",
       "      <td>-0.0395</td>\n",
       "      <td>-0.0683</td>\n",
       "      <td>-0.0922</td>\n",
       "      <td>75.0</td>\n",
       "    </tr>\n",
       "    <tr>\n",
       "      <th>2</th>\n",
       "      <td>0.0853</td>\n",
       "      <td>0.0507</td>\n",
       "      <td>0.0445</td>\n",
       "      <td>-0.0057</td>\n",
       "      <td>-0.0456</td>\n",
       "      <td>-0.0342</td>\n",
       "      <td>-0.0324</td>\n",
       "      <td>-0.0026</td>\n",
       "      <td>0.0029</td>\n",
       "      <td>-0.0259</td>\n",
       "      <td>141.0</td>\n",
       "    </tr>\n",
       "    <tr>\n",
       "      <th>3</th>\n",
       "      <td>-0.0891</td>\n",
       "      <td>-0.0446</td>\n",
       "      <td>-0.0116</td>\n",
       "      <td>-0.0367</td>\n",
       "      <td>0.0122</td>\n",
       "      <td>0.0250</td>\n",
       "      <td>-0.0360</td>\n",
       "      <td>0.0343</td>\n",
       "      <td>0.0227</td>\n",
       "      <td>-0.0094</td>\n",
       "      <td>206.0</td>\n",
       "    </tr>\n",
       "    <tr>\n",
       "      <th>4</th>\n",
       "      <td>0.0054</td>\n",
       "      <td>-0.0446</td>\n",
       "      <td>-0.0364</td>\n",
       "      <td>0.0219</td>\n",
       "      <td>0.0039</td>\n",
       "      <td>0.0156</td>\n",
       "      <td>0.0081</td>\n",
       "      <td>-0.0026</td>\n",
       "      <td>-0.0320</td>\n",
       "      <td>-0.0466</td>\n",
       "      <td>135.0</td>\n",
       "    </tr>\n",
       "    <tr>\n",
       "      <th>...</th>\n",
       "      <td>...</td>\n",
       "      <td>...</td>\n",
       "      <td>...</td>\n",
       "      <td>...</td>\n",
       "      <td>...</td>\n",
       "      <td>...</td>\n",
       "      <td>...</td>\n",
       "      <td>...</td>\n",
       "      <td>...</td>\n",
       "      <td>...</td>\n",
       "      <td>...</td>\n",
       "    </tr>\n",
       "    <tr>\n",
       "      <th>437</th>\n",
       "      <td>0.0417</td>\n",
       "      <td>0.0507</td>\n",
       "      <td>0.0197</td>\n",
       "      <td>0.0597</td>\n",
       "      <td>-0.0057</td>\n",
       "      <td>-0.0026</td>\n",
       "      <td>-0.0287</td>\n",
       "      <td>-0.0026</td>\n",
       "      <td>0.0312</td>\n",
       "      <td>0.0072</td>\n",
       "      <td>178.0</td>\n",
       "    </tr>\n",
       "    <tr>\n",
       "      <th>438</th>\n",
       "      <td>-0.0055</td>\n",
       "      <td>0.0507</td>\n",
       "      <td>-0.0159</td>\n",
       "      <td>-0.0676</td>\n",
       "      <td>0.0493</td>\n",
       "      <td>0.0792</td>\n",
       "      <td>-0.0287</td>\n",
       "      <td>0.0343</td>\n",
       "      <td>-0.0181</td>\n",
       "      <td>0.0445</td>\n",
       "      <td>104.0</td>\n",
       "    </tr>\n",
       "    <tr>\n",
       "      <th>439</th>\n",
       "      <td>0.0417</td>\n",
       "      <td>0.0507</td>\n",
       "      <td>-0.0159</td>\n",
       "      <td>0.0173</td>\n",
       "      <td>-0.0373</td>\n",
       "      <td>-0.0138</td>\n",
       "      <td>-0.0250</td>\n",
       "      <td>-0.0111</td>\n",
       "      <td>-0.0469</td>\n",
       "      <td>0.0155</td>\n",
       "      <td>132.0</td>\n",
       "    </tr>\n",
       "    <tr>\n",
       "      <th>440</th>\n",
       "      <td>-0.0455</td>\n",
       "      <td>-0.0446</td>\n",
       "      <td>0.0391</td>\n",
       "      <td>0.0012</td>\n",
       "      <td>0.0163</td>\n",
       "      <td>0.0153</td>\n",
       "      <td>-0.0287</td>\n",
       "      <td>0.0266</td>\n",
       "      <td>0.0445</td>\n",
       "      <td>-0.0259</td>\n",
       "      <td>220.0</td>\n",
       "    </tr>\n",
       "    <tr>\n",
       "      <th>441</th>\n",
       "      <td>-0.0455</td>\n",
       "      <td>-0.0446</td>\n",
       "      <td>-0.0730</td>\n",
       "      <td>-0.0814</td>\n",
       "      <td>0.0837</td>\n",
       "      <td>0.0278</td>\n",
       "      <td>0.1738</td>\n",
       "      <td>-0.0395</td>\n",
       "      <td>-0.0042</td>\n",
       "      <td>0.0031</td>\n",
       "      <td>57.0</td>\n",
       "    </tr>\n",
       "  </tbody>\n",
       "</table>\n",
       "<p>442 rows × 11 columns</p>\n",
       "</div>"
      ],
      "text/plain": [
       "        age     sex     bmi      bp      s1      s2      s3      s4      s5  \\\n",
       "0    0.0381  0.0507  0.0617  0.0219 -0.0442 -0.0348 -0.0434 -0.0026  0.0199   \n",
       "1   -0.0019 -0.0446 -0.0515 -0.0263 -0.0084 -0.0192  0.0744 -0.0395 -0.0683   \n",
       "2    0.0853  0.0507  0.0445 -0.0057 -0.0456 -0.0342 -0.0324 -0.0026  0.0029   \n",
       "3   -0.0891 -0.0446 -0.0116 -0.0367  0.0122  0.0250 -0.0360  0.0343  0.0227   \n",
       "4    0.0054 -0.0446 -0.0364  0.0219  0.0039  0.0156  0.0081 -0.0026 -0.0320   \n",
       "..      ...     ...     ...     ...     ...     ...     ...     ...     ...   \n",
       "437  0.0417  0.0507  0.0197  0.0597 -0.0057 -0.0026 -0.0287 -0.0026  0.0312   \n",
       "438 -0.0055  0.0507 -0.0159 -0.0676  0.0493  0.0792 -0.0287  0.0343 -0.0181   \n",
       "439  0.0417  0.0507 -0.0159  0.0173 -0.0373 -0.0138 -0.0250 -0.0111 -0.0469   \n",
       "440 -0.0455 -0.0446  0.0391  0.0012  0.0163  0.0153 -0.0287  0.0266  0.0445   \n",
       "441 -0.0455 -0.0446 -0.0730 -0.0814  0.0837  0.0278  0.1738 -0.0395 -0.0042   \n",
       "\n",
       "         s6     db  \n",
       "0   -0.0176  151.0  \n",
       "1   -0.0922   75.0  \n",
       "2   -0.0259  141.0  \n",
       "3   -0.0094  206.0  \n",
       "4   -0.0466  135.0  \n",
       "..      ...    ...  \n",
       "437  0.0072  178.0  \n",
       "438  0.0445  104.0  \n",
       "439  0.0155  132.0  \n",
       "440 -0.0259  220.0  \n",
       "441  0.0031   57.0  \n",
       "\n",
       "[442 rows x 11 columns]"
      ]
     },
     "execution_count": 192,
     "metadata": {},
     "output_type": "execute_result"
    }
   ],
   "source": [
    "DF"
   ]
  },
  {
   "cell_type": "code",
   "execution_count": 193,
   "id": "a97460b4",
   "metadata": {},
   "outputs": [],
   "source": [
    "# Loading necessary labraries"
   ]
  },
  {
   "cell_type": "code",
   "execution_count": 200,
   "id": "f87a1828",
   "metadata": {},
   "outputs": [],
   "source": [
    "import numpy as np\n",
    "import pandas as pd\n",
    "import seaborn as sns\n",
    "from matplotlib import pyplot as plt \n",
    "from sklearn import metrics\n",
    "from sklearn.linear_model import Lasso, Ridge\n",
    "from sklearn.model_selection import cross_val_score\n",
    "from sklearn.model_selection import KFold"
   ]
  },
  {
   "cell_type": "code",
   "execution_count": 201,
   "id": "1c058fb0",
   "metadata": {},
   "outputs": [
    {
     "name": "stdout",
     "output_type": "stream",
     "text": [
      "Requirement already satisfied: mlxtend in c:\\programdata\\anaconda3\\lib\\site-packages (0.19.0)Note: you may need to restart the kernel to use updated packages.\n",
      "Requirement already satisfied: pandas>=0.24.2 in c:\\programdata\\anaconda3\\lib\\site-packages (from mlxtend) (1.3.4)\n",
      "Requirement already satisfied: scikit-learn>=0.20.3 in c:\\programdata\\anaconda3\\lib\\site-packages (from mlxtend) (0.24.2)\n",
      "Requirement already satisfied: scipy>=1.2.1 in c:\\programdata\\anaconda3\\lib\\site-packages (from mlxtend) (1.7.1)\n",
      "Requirement already satisfied: setuptools in c:\\programdata\\anaconda3\\lib\\site-packages (from mlxtend) (58.0.4)\n",
      "\n",
      "Requirement already satisfied: joblib>=0.13.2 in c:\\programdata\\anaconda3\\lib\\site-packages (from mlxtend) (1.1.0)\n",
      "Requirement already satisfied: matplotlib>=3.0.0 in c:\\programdata\\anaconda3\\lib\\site-packages (from mlxtend) (3.4.3)\n",
      "Requirement already satisfied: numpy>=1.16.2 in c:\\programdata\\anaconda3\\lib\\site-packages (from mlxtend) (1.20.3)\n",
      "Requirement already satisfied: pyparsing>=2.2.1 in c:\\programdata\\anaconda3\\lib\\site-packages (from matplotlib>=3.0.0->mlxtend) (3.0.4)\n",
      "Requirement already satisfied: python-dateutil>=2.7 in c:\\programdata\\anaconda3\\lib\\site-packages (from matplotlib>=3.0.0->mlxtend) (2.8.2)\n",
      "Requirement already satisfied: cycler>=0.10 in c:\\programdata\\anaconda3\\lib\\site-packages (from matplotlib>=3.0.0->mlxtend) (0.10.0)\n",
      "Requirement already satisfied: kiwisolver>=1.0.1 in c:\\programdata\\anaconda3\\lib\\site-packages (from matplotlib>=3.0.0->mlxtend) (1.3.1)\n",
      "Requirement already satisfied: pillow>=6.2.0 in c:\\programdata\\anaconda3\\lib\\site-packages (from matplotlib>=3.0.0->mlxtend) (8.4.0)\n",
      "Requirement already satisfied: six in c:\\programdata\\anaconda3\\lib\\site-packages (from cycler>=0.10->matplotlib>=3.0.0->mlxtend) (1.16.0)\n",
      "Requirement already satisfied: pytz>=2017.3 in c:\\programdata\\anaconda3\\lib\\site-packages (from pandas>=0.24.2->mlxtend) (2021.3)\n",
      "Requirement already satisfied: threadpoolctl>=2.0.0 in c:\\programdata\\anaconda3\\lib\\site-packages (from scikit-learn>=0.20.3->mlxtend) (2.2.0)\n"
     ]
    }
   ],
   "source": [
    "pip install mlxtend"
   ]
  },
  {
   "cell_type": "code",
   "execution_count": 202,
   "id": "65e19e4e",
   "metadata": {},
   "outputs": [],
   "source": [
    "from mlxtend.feature_selection import SequentialFeatureSelector as SFS\n",
    "from sklearn.linear_model import LinearRegression"
   ]
  },
  {
   "cell_type": "code",
   "execution_count": 199,
   "id": "26ec949e",
   "metadata": {},
   "outputs": [
    {
     "data": {
      "image/png": "[encoded data removed]",
      "text/plain": [
       "<Figure size 432x288 with 1 Axes>"
      ]
     },
     "metadata": {
      "needs_background": "light"
     },
     "output_type": "display_data"
    }
   ],
   "source": [
    "from mlxtend.plotting import plot_sequential_feature_selection as plot_sfs\n",
    "fig1=plot_sfs(sfs1.get_metric_dict(), kind='std_dev')\n",
    "plt.grid()\n",
    "plt.show()"
   ]
  },
  {
   "cell_type": "code",
   "execution_count": 182,
   "id": "948adeda",
   "metadata": {},
   "outputs": [
    {
     "data": {
      "text/html": [
       "<div>\n",
       "<style scoped>\n",
       "    .dataframe tbody tr th:only-of-type {\n",
       "        vertical-align: middle;\n",
       "    }\n",
       "\n",
       "    .dataframe tbody tr th {\n",
       "        vertical-align: top;\n",
       "    }\n",
       "\n",
       "    .dataframe thead th {\n",
       "        text-align: right;\n",
       "    }\n",
       "</style>\n",
       "<table border=\"1\" class=\"dataframe\">\n",
       "  <thead>\n",
       "    <tr style=\"text-align: right;\">\n",
       "      <th></th>\n",
       "      <th>bmi</th>\n",
       "      <th>s5</th>\n",
       "      <th>bp</th>\n",
       "      <th>s4</th>\n",
       "      <th>s3</th>\n",
       "      <th>s6</th>\n",
       "      <th>db</th>\n",
       "    </tr>\n",
       "  </thead>\n",
       "  <tbody>\n",
       "    <tr>\n",
       "      <th>0</th>\n",
       "      <td>0.0617</td>\n",
       "      <td>0.0199</td>\n",
       "      <td>0.0219</td>\n",
       "      <td>-0.0026</td>\n",
       "      <td>-0.0434</td>\n",
       "      <td>-0.0176</td>\n",
       "      <td>151.0</td>\n",
       "    </tr>\n",
       "    <tr>\n",
       "      <th>1</th>\n",
       "      <td>-0.0515</td>\n",
       "      <td>-0.0683</td>\n",
       "      <td>-0.0263</td>\n",
       "      <td>-0.0395</td>\n",
       "      <td>0.0744</td>\n",
       "      <td>-0.0922</td>\n",
       "      <td>75.0</td>\n",
       "    </tr>\n",
       "    <tr>\n",
       "      <th>2</th>\n",
       "      <td>0.0445</td>\n",
       "      <td>0.0029</td>\n",
       "      <td>-0.0057</td>\n",
       "      <td>-0.0026</td>\n",
       "      <td>-0.0324</td>\n",
       "      <td>-0.0259</td>\n",
       "      <td>141.0</td>\n",
       "    </tr>\n",
       "    <tr>\n",
       "      <th>3</th>\n",
       "      <td>-0.0116</td>\n",
       "      <td>0.0227</td>\n",
       "      <td>-0.0367</td>\n",
       "      <td>0.0343</td>\n",
       "      <td>-0.0360</td>\n",
       "      <td>-0.0094</td>\n",
       "      <td>206.0</td>\n",
       "    </tr>\n",
       "    <tr>\n",
       "      <th>4</th>\n",
       "      <td>-0.0364</td>\n",
       "      <td>-0.0320</td>\n",
       "      <td>0.0219</td>\n",
       "      <td>-0.0026</td>\n",
       "      <td>0.0081</td>\n",
       "      <td>-0.0466</td>\n",
       "      <td>135.0</td>\n",
       "    </tr>\n",
       "    <tr>\n",
       "      <th>...</th>\n",
       "      <td>...</td>\n",
       "      <td>...</td>\n",
       "      <td>...</td>\n",
       "      <td>...</td>\n",
       "      <td>...</td>\n",
       "      <td>...</td>\n",
       "      <td>...</td>\n",
       "    </tr>\n",
       "    <tr>\n",
       "      <th>437</th>\n",
       "      <td>0.0197</td>\n",
       "      <td>0.0312</td>\n",
       "      <td>0.0597</td>\n",
       "      <td>-0.0026</td>\n",
       "      <td>-0.0287</td>\n",
       "      <td>0.0072</td>\n",
       "      <td>178.0</td>\n",
       "    </tr>\n",
       "    <tr>\n",
       "      <th>438</th>\n",
       "      <td>-0.0159</td>\n",
       "      <td>-0.0181</td>\n",
       "      <td>-0.0676</td>\n",
       "      <td>0.0343</td>\n",
       "      <td>-0.0287</td>\n",
       "      <td>0.0445</td>\n",
       "      <td>104.0</td>\n",
       "    </tr>\n",
       "    <tr>\n",
       "      <th>439</th>\n",
       "      <td>-0.0159</td>\n",
       "      <td>-0.0469</td>\n",
       "      <td>0.0173</td>\n",
       "      <td>-0.0111</td>\n",
       "      <td>-0.0250</td>\n",
       "      <td>0.0155</td>\n",
       "      <td>132.0</td>\n",
       "    </tr>\n",
       "    <tr>\n",
       "      <th>440</th>\n",
       "      <td>0.0391</td>\n",
       "      <td>0.0445</td>\n",
       "      <td>0.0012</td>\n",
       "      <td>0.0266</td>\n",
       "      <td>-0.0287</td>\n",
       "      <td>-0.0259</td>\n",
       "      <td>220.0</td>\n",
       "    </tr>\n",
       "    <tr>\n",
       "      <th>441</th>\n",
       "      <td>-0.0730</td>\n",
       "      <td>-0.0042</td>\n",
       "      <td>-0.0814</td>\n",
       "      <td>-0.0395</td>\n",
       "      <td>0.1738</td>\n",
       "      <td>0.0031</td>\n",
       "      <td>57.0</td>\n",
       "    </tr>\n",
       "  </tbody>\n",
       "</table>\n",
       "<p>442 rows × 7 columns</p>\n",
       "</div>"
      ],
      "text/plain": [
       "        bmi      s5      bp      s4      s3      s6     db\n",
       "0    0.0617  0.0199  0.0219 -0.0026 -0.0434 -0.0176  151.0\n",
       "1   -0.0515 -0.0683 -0.0263 -0.0395  0.0744 -0.0922   75.0\n",
       "2    0.0445  0.0029 -0.0057 -0.0026 -0.0324 -0.0259  141.0\n",
       "3   -0.0116  0.0227 -0.0367  0.0343 -0.0360 -0.0094  206.0\n",
       "4   -0.0364 -0.0320  0.0219 -0.0026  0.0081 -0.0466  135.0\n",
       "..      ...     ...     ...     ...     ...     ...    ...\n",
       "437  0.0197  0.0312  0.0597 -0.0026 -0.0287  0.0072  178.0\n",
       "438 -0.0159 -0.0181 -0.0676  0.0343 -0.0287  0.0445  104.0\n",
       "439 -0.0159 -0.0469  0.0173 -0.0111 -0.0250  0.0155  132.0\n",
       "440  0.0391  0.0445  0.0012  0.0266 -0.0287 -0.0259  220.0\n",
       "441 -0.0730 -0.0042 -0.0814 -0.0395  0.1738  0.0031   57.0\n",
       "\n",
       "[442 rows x 7 columns]"
      ]
     },
     "execution_count": 182,
     "metadata": {},
     "output_type": "execute_result"
    }
   ],
   "source": [
    "selected_features=DF.loc[:,['bmi','s5','bp','s4','s3', 's6', 'db']]\n",
    "selected_features"
   ]
  },
  {
   "cell_type": "code",
   "execution_count": 183,
   "id": "64a21a71",
   "metadata": {},
   "outputs": [],
   "source": [
    "x=selected_features.drop(labels='db',axis=1)"
   ]
  },
  {
   "cell_type": "code",
   "execution_count": 184,
   "id": "4d87b5ae",
   "metadata": {},
   "outputs": [
    {
     "data": {
      "text/html": [
       "<div>\n",
       "<style scoped>\n",
       "    .dataframe tbody tr th:only-of-type {\n",
       "        vertical-align: middle;\n",
       "    }\n",
       "\n",
       "    .dataframe tbody tr th {\n",
       "        vertical-align: top;\n",
       "    }\n",
       "\n",
       "    .dataframe thead th {\n",
       "        text-align: right;\n",
       "    }\n",
       "</style>\n",
       "<table border=\"1\" class=\"dataframe\">\n",
       "  <thead>\n",
       "    <tr style=\"text-align: right;\">\n",
       "      <th></th>\n",
       "      <th>bmi</th>\n",
       "      <th>s5</th>\n",
       "      <th>bp</th>\n",
       "      <th>s4</th>\n",
       "      <th>s3</th>\n",
       "      <th>s6</th>\n",
       "    </tr>\n",
       "  </thead>\n",
       "  <tbody>\n",
       "    <tr>\n",
       "      <th>0</th>\n",
       "      <td>0.0617</td>\n",
       "      <td>0.0199</td>\n",
       "      <td>0.0219</td>\n",
       "      <td>-0.0026</td>\n",
       "      <td>-0.0434</td>\n",
       "      <td>-0.0176</td>\n",
       "    </tr>\n",
       "    <tr>\n",
       "      <th>1</th>\n",
       "      <td>-0.0515</td>\n",
       "      <td>-0.0683</td>\n",
       "      <td>-0.0263</td>\n",
       "      <td>-0.0395</td>\n",
       "      <td>0.0744</td>\n",
       "      <td>-0.0922</td>\n",
       "    </tr>\n",
       "    <tr>\n",
       "      <th>2</th>\n",
       "      <td>0.0445</td>\n",
       "      <td>0.0029</td>\n",
       "      <td>-0.0057</td>\n",
       "      <td>-0.0026</td>\n",
       "      <td>-0.0324</td>\n",
       "      <td>-0.0259</td>\n",
       "    </tr>\n",
       "    <tr>\n",
       "      <th>3</th>\n",
       "      <td>-0.0116</td>\n",
       "      <td>0.0227</td>\n",
       "      <td>-0.0367</td>\n",
       "      <td>0.0343</td>\n",
       "      <td>-0.0360</td>\n",
       "      <td>-0.0094</td>\n",
       "    </tr>\n",
       "    <tr>\n",
       "      <th>4</th>\n",
       "      <td>-0.0364</td>\n",
       "      <td>-0.0320</td>\n",
       "      <td>0.0219</td>\n",
       "      <td>-0.0026</td>\n",
       "      <td>0.0081</td>\n",
       "      <td>-0.0466</td>\n",
       "    </tr>\n",
       "    <tr>\n",
       "      <th>...</th>\n",
       "      <td>...</td>\n",
       "      <td>...</td>\n",
       "      <td>...</td>\n",
       "      <td>...</td>\n",
       "      <td>...</td>\n",
       "      <td>...</td>\n",
       "    </tr>\n",
       "    <tr>\n",
       "      <th>437</th>\n",
       "      <td>0.0197</td>\n",
       "      <td>0.0312</td>\n",
       "      <td>0.0597</td>\n",
       "      <td>-0.0026</td>\n",
       "      <td>-0.0287</td>\n",
       "      <td>0.0072</td>\n",
       "    </tr>\n",
       "    <tr>\n",
       "      <th>438</th>\n",
       "      <td>-0.0159</td>\n",
       "      <td>-0.0181</td>\n",
       "      <td>-0.0676</td>\n",
       "      <td>0.0343</td>\n",
       "      <td>-0.0287</td>\n",
       "      <td>0.0445</td>\n",
       "    </tr>\n",
       "    <tr>\n",
       "      <th>439</th>\n",
       "      <td>-0.0159</td>\n",
       "      <td>-0.0469</td>\n",
       "      <td>0.0173</td>\n",
       "      <td>-0.0111</td>\n",
       "      <td>-0.0250</td>\n",
       "      <td>0.0155</td>\n",
       "    </tr>\n",
       "    <tr>\n",
       "      <th>440</th>\n",
       "      <td>0.0391</td>\n",
       "      <td>0.0445</td>\n",
       "      <td>0.0012</td>\n",
       "      <td>0.0266</td>\n",
       "      <td>-0.0287</td>\n",
       "      <td>-0.0259</td>\n",
       "    </tr>\n",
       "    <tr>\n",
       "      <th>441</th>\n",
       "      <td>-0.0730</td>\n",
       "      <td>-0.0042</td>\n",
       "      <td>-0.0814</td>\n",
       "      <td>-0.0395</td>\n",
       "      <td>0.1738</td>\n",
       "      <td>0.0031</td>\n",
       "    </tr>\n",
       "  </tbody>\n",
       "</table>\n",
       "<p>442 rows × 6 columns</p>\n",
       "</div>"
      ],
      "text/plain": [
       "        bmi      s5      bp      s4      s3      s6\n",
       "0    0.0617  0.0199  0.0219 -0.0026 -0.0434 -0.0176\n",
       "1   -0.0515 -0.0683 -0.0263 -0.0395  0.0744 -0.0922\n",
       "2    0.0445  0.0029 -0.0057 -0.0026 -0.0324 -0.0259\n",
       "3   -0.0116  0.0227 -0.0367  0.0343 -0.0360 -0.0094\n",
       "4   -0.0364 -0.0320  0.0219 -0.0026  0.0081 -0.0466\n",
       "..      ...     ...     ...     ...     ...     ...\n",
       "437  0.0197  0.0312  0.0597 -0.0026 -0.0287  0.0072\n",
       "438 -0.0159 -0.0181 -0.0676  0.0343 -0.0287  0.0445\n",
       "439 -0.0159 -0.0469  0.0173 -0.0111 -0.0250  0.0155\n",
       "440  0.0391  0.0445  0.0012  0.0266 -0.0287 -0.0259\n",
       "441 -0.0730 -0.0042 -0.0814 -0.0395  0.1738  0.0031\n",
       "\n",
       "[442 rows x 6 columns]"
      ]
     },
     "execution_count": 184,
     "metadata": {},
     "output_type": "execute_result"
    }
   ],
   "source": [
    "x"
   ]
  },
  {
   "cell_type": "code",
   "execution_count": 146,
   "id": "d6c9e6cc",
   "metadata": {},
   "outputs": [
    {
     "data": {
      "text/plain": [
       "0      151.0\n",
       "1       75.0\n",
       "2      141.0\n",
       "3      206.0\n",
       "4      135.0\n",
       "       ...  \n",
       "437    178.0\n",
       "438    104.0\n",
       "439    132.0\n",
       "440    220.0\n",
       "441     57.0\n",
       "Name: db, Length: 442, dtype: float64"
      ]
     },
     "execution_count": 146,
     "metadata": {},
     "output_type": "execute_result"
    }
   ],
   "source": [
    "y=selected_features['db']\n",
    "y"
   ]
  },
  {
   "cell_type": "code",
   "execution_count": 207,
   "id": "06397293",
   "metadata": {},
   "outputs": [],
   "source": [
    "# Splitting into train and test data"
   ]
  },
  {
   "cell_type": "code",
   "execution_count": 147,
   "id": "5a5f558b",
   "metadata": {},
   "outputs": [
    {
     "name": "stdout",
     "output_type": "stream",
     "text": [
      "x_train:  (331, 6)\n",
      "y_train:  (331,)\n"
     ]
    }
   ],
   "source": [
    "from sklearn.model_selection import train_test_split\n",
    "# x_train, x_test, y_train, y_test= train_test_split(selected_features.data, selected_features.target, random_state=11)\n",
    "x_train, x_test, y_train, y_test= train_test_split(x, y, random_state=11)\n",
    "print('x_train: ', x_train.shape)\n",
    "print('y_train: ', y_train.shape)"
   ]
  },
  {
   "cell_type": "code",
   "execution_count": null,
   "id": "b8bb983f",
   "metadata": {},
   "outputs": [],
   "source": [
    "# Linear regression "
   ]
  },
  {
   "cell_type": "code",
   "execution_count": 148,
   "id": "26dbfd58",
   "metadata": {},
   "outputs": [
    {
     "name": "stdout",
     "output_type": "stream",
     "text": [
      "{'copy_X': True, 'fit_intercept': True, 'n_jobs': None, 'normalize': False, 'positive': False}\n"
     ]
    }
   ],
   "source": [
    "from sklearn.linear_model import LinearRegression\n",
    "LR= LinearRegression()\n",
    "LR.fit(X=x_train, y=y_train)\n",
    "print(LR.get_params())"
   ]
  },
  {
   "cell_type": "code",
   "execution_count": 149,
   "id": "a5a667ee",
   "metadata": {},
   "outputs": [
    {
     "name": "stdout",
     "output_type": "stream",
     "text": [
      "Linear regression intercept =  151.6047920339339\n"
     ]
    }
   ],
   "source": [
    "print('Linear regression intercept = ', LR.intercept_)"
   ]
  },
  {
   "cell_type": "code",
   "execution_count": 152,
   "id": "bb364680",
   "metadata": {},
   "outputs": [
    {
     "name": "stdout",
     "output_type": "stream",
     "text": [
      "Linear regression coef:\n",
      "\n",
      "       bmi: 564.2057444340495\n",
      "        s5: 554.8589354003582\n",
      "        bp: 251.71492263693565\n",
      "        s4: -260.8391029163614\n",
      "        s3: -297.7808858987385\n"
     ]
    }
   ],
   "source": [
    "print('Linear regression coef:\\n')\n",
    "for i, name in enumerate(selected_features.columns[0:5]):\n",
    "      print(f'{name:>10}: {LR.coef_[i]}')"
   ]
  },
  {
   "cell_type": "code",
   "execution_count": 209,
   "id": "5d29e6c0",
   "metadata": {},
   "outputs": [
    {
     "name": "stdout",
     "output_type": "stream",
     "text": [
      "Mean squared error: 3470.1303807125605\n"
     ]
    }
   ],
   "source": [
    "from sklearn import metrics\n",
    "print('Mean squared error:', metrics.mean_squared_error(predicted, expected))"
   ]
  },
  {
   "cell_type": "code",
   "execution_count": null,
   "id": "95f11b5f",
   "metadata": {},
   "outputs": [],
   "source": [
    "# Cross validation and Lasso vs Ridge"
   ]
  },
  {
   "cell_type": "code",
   "execution_count": 156,
   "id": "837d583b",
   "metadata": {},
   "outputs": [],
   "source": [
    "from sklearn.linear_model import Lasso, Ridge\n",
    "estimators = {'Linear Regression': LR,\n",
    "               'Lasso': Lasso(),\n",
    "               'Ridge': Ridge()\n",
    "              }"
   ]
  },
  {
   "cell_type": "code",
   "execution_count": 211,
   "id": "55b8da86",
   "metadata": {},
   "outputs": [
    {
     "name": "stdout",
     "output_type": "stream",
     "text": [
      "Linear Regression: Mean squared error=-3019.535\n",
      "            Lasso: Mean squared error=-3864.197\n",
      "            Ridge: Mean squared error=-3374.444\n"
     ]
    }
   ],
   "source": [
    "from sklearn.model_selection import cross_val_score\n",
    "for estimator_name, estimator_object in estimators.items():\n",
    "    fold = KFold(n_splits=10, shuffle=True, random_state=11)\n",
    "    scores = cross_val_score(estimator = estimator_object, X=diabetics.data, y=diabetics.target, cv=fold, scoring='neg_mean_squared_error')\n",
    "    print(f'{estimator_name:>17}: '  + f'Mean squared error={scores.mean():.3f}')"
   ]
  },
  {
   "cell_type": "code",
   "execution_count": null,
   "id": "ff86daf0",
   "metadata": {},
   "outputs": [],
   "source": []
  }
 ],
 "metadata": {
  "kernelspec": {
   "display_name": "Python 3 (ipykernel)",
   "language": "python",
   "name": "python3"
  },
  "language_info": {
   "codemirror_mode": {
    "name": "ipython",
    "version": 3
   },
   "file_extension": ".py",
   "mimetype": "text/x-python",
   "name": "python",
   "nbconvert_exporter": "python",
   "pygments_lexer": "ipython3",
   "version": "3.9.7"
  }
 },
 "nbformat": 4,
 "nbformat_minor": 5
}
